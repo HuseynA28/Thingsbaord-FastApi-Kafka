{
 "cells": [
  {
   "cell_type": "code",
   "execution_count": 2,
   "metadata": {},
   "outputs": [],
   "source": [
    "import polars as pl "
   ]
  },
  {
   "cell_type": "code",
   "execution_count": 3,
   "metadata": {},
   "outputs": [],
   "source": [
    "one_device_keys=pl.read_csv(\"/root/main-kafka-main/RandomDevices/test.csv\")"
   ]
  },
  {
   "cell_type": "code",
   "execution_count": 4,
   "metadata": {},
   "outputs": [
    {
     "data": {
      "text/html": [
       "<div><style>\n",
       ".dataframe > thead > tr,\n",
       ".dataframe > tbody > tr {\n",
       "  text-align: right;\n",
       "  white-space: pre-wrap;\n",
       "}\n",
       "</style>\n",
       "<small>shape: (5, 1)</small><table border=\"1\" class=\"dataframe\"><thead><tr><th>key</th></tr><tr><td>str</td></tr></thead><tbody><tr><td>&quot;6001&quot;</td></tr><tr><td>&quot;6002&quot;</td></tr><tr><td>&quot;6021&quot;</td></tr><tr><td>&quot;6024&quot;</td></tr><tr><td>&quot;ts&quot;</td></tr></tbody></table></div>"
      ],
      "text/plain": [
       "shape: (5, 1)\n",
       "┌──────┐\n",
       "│ key  │\n",
       "│ ---  │\n",
       "│ str  │\n",
       "╞══════╡\n",
       "│ 6001 │\n",
       "│ 6002 │\n",
       "│ 6021 │\n",
       "│ 6024 │\n",
       "│ ts   │\n",
       "└──────┘"
      ]
     },
     "execution_count": 4,
     "metadata": {},
     "output_type": "execute_result"
    }
   ],
   "source": [
    "one_device_keys.head()"
   ]
  },
  {
   "cell_type": "code",
   "execution_count": 5,
   "metadata": {},
   "outputs": [],
   "source": [
    "one_device_keys = one_device_keys.with_columns(\n",
    "    pl.when(pl.col(\"key\").is_null())\n",
    "      .then(pl.lit(\"Non-Modbus\"))\n",
    "      .when(pl.col(\"key\").str.contains(r\"^[0-9A-Fa-f]{4}$\"))\n",
    "      .then(pl.lit(\"Modbus\"))\n",
    "      .otherwise(pl.lit(\"Non-Modbus\"))\n",
    "      .alias(\"category\")\n",
    ")\n"
   ]
  },
  {
   "cell_type": "code",
   "execution_count": 6,
   "metadata": {},
   "outputs": [],
   "source": [
    "one_device_keys = one_device_keys.filter(\n",
    "    pl.col(\"key\").is_not_null() & pl.col(\"key\").str.contains(r\"^[0-9A-Fa-f]{4}$\")\n",
    ")\n"
   ]
  },
  {
   "cell_type": "code",
   "execution_count": 7,
   "metadata": {},
   "outputs": [
    {
     "data": {
      "text/html": [
       "<div><style>\n",
       ".dataframe > thead > tr,\n",
       ".dataframe > tbody > tr {\n",
       "  text-align: right;\n",
       "  white-space: pre-wrap;\n",
       "}\n",
       "</style>\n",
       "<small>shape: (5, 2)</small><table border=\"1\" class=\"dataframe\"><thead><tr><th>key</th><th>category</th></tr><tr><td>str</td><td>str</td></tr></thead><tbody><tr><td>&quot;6001&quot;</td><td>&quot;Modbus&quot;</td></tr><tr><td>&quot;6002&quot;</td><td>&quot;Modbus&quot;</td></tr><tr><td>&quot;6021&quot;</td><td>&quot;Modbus&quot;</td></tr><tr><td>&quot;6024&quot;</td><td>&quot;Modbus&quot;</td></tr><tr><td>&quot;5009&quot;</td><td>&quot;Modbus&quot;</td></tr></tbody></table></div>"
      ],
      "text/plain": [
       "shape: (5, 2)\n",
       "┌──────┬──────────┐\n",
       "│ key  ┆ category │\n",
       "│ ---  ┆ ---      │\n",
       "│ str  ┆ str      │\n",
       "╞══════╪══════════╡\n",
       "│ 6001 ┆ Modbus   │\n",
       "│ 6002 ┆ Modbus   │\n",
       "│ 6021 ┆ Modbus   │\n",
       "│ 6024 ┆ Modbus   │\n",
       "│ 5009 ┆ Modbus   │\n",
       "└──────┴──────────┘"
      ]
     },
     "execution_count": 7,
     "metadata": {},
     "output_type": "execute_result"
    }
   ],
   "source": [
    "one_device_keys.head()"
   ]
  },
  {
   "cell_type": "code",
   "execution_count": null,
   "metadata": {},
   "outputs": [],
   "source": [
    "one_device_keysone_device_keys[\"\"]"
   ]
  }
 ],
 "metadata": {
  "kernelspec": {
   "display_name": "Python 3",
   "language": "python",
   "name": "python3"
  },
  "language_info": {
   "codemirror_mode": {
    "name": "ipython",
    "version": 3
   },
   "file_extension": ".py",
   "mimetype": "text/x-python",
   "name": "python",
   "nbconvert_exporter": "python",
   "pygments_lexer": "ipython3",
   "version": "3.10.12"
  }
 },
 "nbformat": 4,
 "nbformat_minor": 2
}
