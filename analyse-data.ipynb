{
 "cells": [
  {
   "cell_type": "code",
   "execution_count": 2,
   "metadata": {},
   "outputs": [],
   "source": [
    "import pandas as pd\n",
    "import yaml\n",
    "import jmespath\n",
    "import yaml"
   ]
  },
  {
   "cell_type": "code",
   "execution_count": 11,
   "metadata": {},
   "outputs": [],
   "source": [
    "df_from_old=pd.read_csv(\"/root/main-kafka-main/DataFrame/fde0af30-d9d7-11ed-abe5-9faf6fe668dc-20250227_093609.csv\")"
   ]
  },
  {
   "cell_type": "code",
   "execution_count": 12,
   "metadata": {},
   "outputs": [
    {
     "data": {
      "text/html": [
       "<div>\n",
       "<style scoped>\n",
       "    .dataframe tbody tr th:only-of-type {\n",
       "        vertical-align: middle;\n",
       "    }\n",
       "\n",
       "    .dataframe tbody tr th {\n",
       "        vertical-align: top;\n",
       "    }\n",
       "\n",
       "    .dataframe thead th {\n",
       "        text-align: right;\n",
       "    }\n",
       "</style>\n",
       "<table border=\"1\" class=\"dataframe\">\n",
       "  <thead>\n",
       "    <tr style=\"text-align: right;\">\n",
       "      <th></th>\n",
       "      <th>name</th>\n",
       "      <th>id</th>\n",
       "      <th>type</th>\n",
       "      <th>label</th>\n",
       "      <th>customerId</th>\n",
       "      <th>CustomerName</th>\n",
       "    </tr>\n",
       "  </thead>\n",
       "  <tbody>\n",
       "    <tr>\n",
       "      <th>0</th>\n",
       "      <td>58BF25EA6390-002</td>\n",
       "      <td>004a38c0-27db-11ef-9159-ed94d19c6787</td>\n",
       "      <td>BRAVO</td>\n",
       "      <td>Saica PM 2</td>\n",
       "      <td>30832ed0-2d4d-11ef-ad50-41358614ad63</td>\n",
       "      <td>Saica Pack -  UK</td>\n",
       "    </tr>\n",
       "    <tr>\n",
       "      <th>1</th>\n",
       "      <td>58BF25EA1554-012</td>\n",
       "      <td>03284830-91e3-11ef-bb66-09a77fdcecde</td>\n",
       "      <td>SEN5X</td>\n",
       "      <td>NaN</td>\n",
       "      <td>397eac60-1daf-11ef-9159-ed94d19c6787</td>\n",
       "      <td>Zehnder Zensor</td>\n",
       "    </tr>\n",
       "    <tr>\n",
       "      <th>2</th>\n",
       "      <td>58BF25E9756C-010</td>\n",
       "      <td>0697e0e0-b79d-11ef-9681-df1aaf416822</td>\n",
       "      <td>SEN5X</td>\n",
       "      <td>Cosanum 11</td>\n",
       "      <td>8d8537a0-4675-11ee-bc70-33963a1aa4c6</td>\n",
       "      <td>Cosanum - Zurich CH</td>\n",
       "    </tr>\n",
       "    <tr>\n",
       "      <th>3</th>\n",
       "      <td>5443B2E17B4C</td>\n",
       "      <td>0aff1d00-f589-11ee-b74a-9d551fd2f465</td>\n",
       "      <td>IntelliGateLTE</td>\n",
       "      <td>NaN</td>\n",
       "      <td>8d8537a0-4675-11ee-bc70-33963a1aa4c6</td>\n",
       "      <td>Cosanum - Zurich CH</td>\n",
       "    </tr>\n",
       "    <tr>\n",
       "      <th>4</th>\n",
       "      <td>58BF25EBA0F0-004</td>\n",
       "      <td>0b2bea80-7fcf-11ef-bb66-09a77fdcecde</td>\n",
       "      <td>Premasgard_7000</td>\n",
       "      <td>Cone</td>\n",
       "      <td>fde0af30-d9d7-11ed-abe5-9faf6fe668dc</td>\n",
       "      <td>Motala Hissar - R&amp;D</td>\n",
       "    </tr>\n",
       "  </tbody>\n",
       "</table>\n",
       "</div>"
      ],
      "text/plain": [
       "               name                                    id             type  \\\n",
       "0  58BF25EA6390-002  004a38c0-27db-11ef-9159-ed94d19c6787            BRAVO   \n",
       "1  58BF25EA1554-012  03284830-91e3-11ef-bb66-09a77fdcecde            SEN5X   \n",
       "2  58BF25E9756C-010  0697e0e0-b79d-11ef-9681-df1aaf416822            SEN5X   \n",
       "3      5443B2E17B4C  0aff1d00-f589-11ee-b74a-9d551fd2f465   IntelliGateLTE   \n",
       "4  58BF25EBA0F0-004  0b2bea80-7fcf-11ef-bb66-09a77fdcecde  Premasgard_7000   \n",
       "\n",
       "        label                            customerId         CustomerName  \n",
       "0  Saica PM 2  30832ed0-2d4d-11ef-ad50-41358614ad63     Saica Pack -  UK  \n",
       "1         NaN  397eac60-1daf-11ef-9159-ed94d19c6787       Zehnder Zensor  \n",
       "2  Cosanum 11  8d8537a0-4675-11ee-bc70-33963a1aa4c6  Cosanum - Zurich CH  \n",
       "3         NaN  8d8537a0-4675-11ee-bc70-33963a1aa4c6  Cosanum - Zurich CH  \n",
       "4        Cone  fde0af30-d9d7-11ed-abe5-9faf6fe668dc  Motala Hissar - R&D  "
      ]
     },
     "execution_count": 12,
     "metadata": {},
     "output_type": "execute_result"
    }
   ],
   "source": [
    "df_from_old.head()"
   ]
  },
  {
   "cell_type": "code",
   "execution_count": 13,
   "metadata": {},
   "outputs": [
    {
     "data": {
      "text/plain": [
       "CustomerName\n",
       "Zehnder Group - PMO SE                         29\n",
       "Scandinavian Cellulose Production - Tbro SE    18\n",
       "Motala Hissar - R&D                            16\n",
       "Alta                                           12\n",
       "Zehnder Zensor                                 10\n",
       "Cosanum - Zurich CH                             8\n",
       "Saica Pack -  UK                                8\n",
       "Project Clogging                                6\n",
       "R&D Novelis                                     4\n",
       "Oerlikon Balzter - Brügg CH                     2\n",
       "epNeo - Dortmund DE                             2\n",
       "Name: count, dtype: int64"
      ]
     },
     "execution_count": 13,
     "metadata": {},
     "output_type": "execute_result"
    }
   ],
   "source": [
    "df_from_old[\"CustomerName\"].value_counts()"
   ]
  },
  {
   "cell_type": "code",
   "execution_count": 14,
   "metadata": {},
   "outputs": [
    {
     "data": {
      "text/plain": [
       "name             0\n",
       "id               0\n",
       "type             0\n",
       "label           29\n",
       "customerId       0\n",
       "CustomerName     0\n",
       "dtype: int64"
      ]
     },
     "execution_count": 14,
     "metadata": {},
     "output_type": "execute_result"
    }
   ],
   "source": [
    "df_from_old.isna().sum()"
   ]
  },
  {
   "cell_type": "code",
   "execution_count": 15,
   "metadata": {},
   "outputs": [
    {
     "data": {
      "text/html": [
       "<div>\n",
       "<style scoped>\n",
       "    .dataframe tbody tr th:only-of-type {\n",
       "        vertical-align: middle;\n",
       "    }\n",
       "\n",
       "    .dataframe tbody tr th {\n",
       "        vertical-align: top;\n",
       "    }\n",
       "\n",
       "    .dataframe thead th {\n",
       "        text-align: right;\n",
       "    }\n",
       "</style>\n",
       "<table border=\"1\" class=\"dataframe\">\n",
       "  <thead>\n",
       "    <tr style=\"text-align: right;\">\n",
       "      <th></th>\n",
       "      <th>name</th>\n",
       "      <th>id</th>\n",
       "      <th>type</th>\n",
       "      <th>label</th>\n",
       "      <th>customerId</th>\n",
       "      <th>CustomerName</th>\n",
       "    </tr>\n",
       "  </thead>\n",
       "  <tbody>\n",
       "    <tr>\n",
       "      <th>1</th>\n",
       "      <td>58BF25EA1554-012</td>\n",
       "      <td>03284830-91e3-11ef-bb66-09a77fdcecde</td>\n",
       "      <td>SEN5X</td>\n",
       "      <td>NaN</td>\n",
       "      <td>397eac60-1daf-11ef-9159-ed94d19c6787</td>\n",
       "      <td>Zehnder Zensor</td>\n",
       "    </tr>\n",
       "    <tr>\n",
       "      <th>2</th>\n",
       "      <td>58BF25E9756C-010</td>\n",
       "      <td>0697e0e0-b79d-11ef-9681-df1aaf416822</td>\n",
       "      <td>SEN5X</td>\n",
       "      <td>Cosanum 11</td>\n",
       "      <td>8d8537a0-4675-11ee-bc70-33963a1aa4c6</td>\n",
       "      <td>Cosanum - Zurich CH</td>\n",
       "    </tr>\n",
       "    <tr>\n",
       "      <th>18</th>\n",
       "      <td>5443B2E17B4C-010</td>\n",
       "      <td>20001700-b79d-11ef-9681-df1aaf416822</td>\n",
       "      <td>SEN5X</td>\n",
       "      <td>Cosanum 12</td>\n",
       "      <td>8d8537a0-4675-11ee-bc70-33963a1aa4c6</td>\n",
       "      <td>Cosanum - Zurich CH</td>\n",
       "    </tr>\n",
       "    <tr>\n",
       "      <th>43</th>\n",
       "      <td>EC62604C580C-010</td>\n",
       "      <td>38e79d50-506b-11ee-863a-01bce6d27c63</td>\n",
       "      <td>SEN5X</td>\n",
       "      <td>Cosanum 13</td>\n",
       "      <td>8d8537a0-4675-11ee-bc70-33963a1aa4c6</td>\n",
       "      <td>Cosanum - Zurich CH</td>\n",
       "    </tr>\n",
       "    <tr>\n",
       "      <th>48</th>\n",
       "      <td>58BF25EA1554-010</td>\n",
       "      <td>3dfd8810-910e-11ef-bb66-09a77fdcecde</td>\n",
       "      <td>SEN5X</td>\n",
       "      <td>NaN</td>\n",
       "      <td>397eac60-1daf-11ef-9159-ed94d19c6787</td>\n",
       "      <td>Zehnder Zensor</td>\n",
       "    </tr>\n",
       "  </tbody>\n",
       "</table>\n",
       "</div>"
      ],
      "text/plain": [
       "                name                                    id   type       label  \\\n",
       "1   58BF25EA1554-012  03284830-91e3-11ef-bb66-09a77fdcecde  SEN5X         NaN   \n",
       "2   58BF25E9756C-010  0697e0e0-b79d-11ef-9681-df1aaf416822  SEN5X  Cosanum 11   \n",
       "18  5443B2E17B4C-010  20001700-b79d-11ef-9681-df1aaf416822  SEN5X  Cosanum 12   \n",
       "43  EC62604C580C-010  38e79d50-506b-11ee-863a-01bce6d27c63  SEN5X  Cosanum 13   \n",
       "48  58BF25EA1554-010  3dfd8810-910e-11ef-bb66-09a77fdcecde  SEN5X         NaN   \n",
       "\n",
       "                              customerId         CustomerName  \n",
       "1   397eac60-1daf-11ef-9159-ed94d19c6787       Zehnder Zensor  \n",
       "2   8d8537a0-4675-11ee-bc70-33963a1aa4c6  Cosanum - Zurich CH  \n",
       "18  8d8537a0-4675-11ee-bc70-33963a1aa4c6  Cosanum - Zurich CH  \n",
       "43  8d8537a0-4675-11ee-bc70-33963a1aa4c6  Cosanum - Zurich CH  \n",
       "48  397eac60-1daf-11ef-9159-ed94d19c6787       Zehnder Zensor  "
      ]
     },
     "execution_count": 15,
     "metadata": {},
     "output_type": "execute_result"
    }
   ],
   "source": [
    "SEN5X_df=df_from_old[df_from_old[\"type\"]==\"SEN5X\"]\n",
    "SEN5X_df.head()"
   ]
  },
  {
   "cell_type": "code",
   "execution_count": 17,
   "metadata": {},
   "outputs": [
    {
     "data": {
      "text/html": [
       "<div>\n",
       "<style scoped>\n",
       "    .dataframe tbody tr th:only-of-type {\n",
       "        vertical-align: middle;\n",
       "    }\n",
       "\n",
       "    .dataframe tbody tr th {\n",
       "        vertical-align: top;\n",
       "    }\n",
       "\n",
       "    .dataframe thead th {\n",
       "        text-align: right;\n",
       "    }\n",
       "</style>\n",
       "<table border=\"1\" class=\"dataframe\">\n",
       "  <thead>\n",
       "    <tr style=\"text-align: right;\">\n",
       "      <th></th>\n",
       "      <th>name</th>\n",
       "      <th>id</th>\n",
       "      <th>type</th>\n",
       "      <th>label</th>\n",
       "      <th>customerId</th>\n",
       "      <th>CustomerName</th>\n",
       "    </tr>\n",
       "  </thead>\n",
       "  <tbody>\n",
       "    <tr>\n",
       "      <th>50</th>\n",
       "      <td>EC62604C5C80-100</td>\n",
       "      <td>46f02db0-62a7-11ee-863a-01bce6d27c63</td>\n",
       "      <td>SEN5X</td>\n",
       "      <td>Oerlikon Particle Counter</td>\n",
       "      <td>0dd51000-c039-11ee-9aac-8b87a7da80ca</td>\n",
       "      <td>Oerlikon Balzter - Brügg CH</td>\n",
       "    </tr>\n",
       "  </tbody>\n",
       "</table>\n",
       "</div>"
      ],
      "text/plain": [
       "                name                                    id   type  \\\n",
       "50  EC62604C5C80-100  46f02db0-62a7-11ee-863a-01bce6d27c63  SEN5X   \n",
       "\n",
       "                        label                            customerId  \\\n",
       "50  Oerlikon Particle Counter  0dd51000-c039-11ee-9aac-8b87a7da80ca   \n",
       "\n",
       "                   CustomerName  \n",
       "50  Oerlikon Balzter - Brügg CH  "
      ]
     },
     "execution_count": 17,
     "metadata": {},
     "output_type": "execute_result"
    }
   ],
   "source": [
    "SEN5X_df[SEN5X_df[\"name\"]==\"EC62604C5C80-100\"]"
   ]
  },
  {
   "cell_type": "code",
   "execution_count": null,
   "metadata": {},
   "outputs": [],
   "source": []
  },
  {
   "cell_type": "markdown",
   "metadata": {},
   "source": [
    "#  Getting value from JAML  file"
   ]
  },
  {
   "cell_type": "code",
   "execution_count": null,
   "metadata": {},
   "outputs": [],
   "source": [
    "data=\"/root/main-kafka-main/Emb-yaml/epStructure2.yaml\"\n",
    "device_names_list=[]\n",
    "with open(data, \"r\") as file:\n",
    "    yaml_content = yaml.safe_load(file)\n",
    "    projects=yaml_content[\"projects\"]\n",
    "    for project in projects:\n",
    "        costomer=project[\"customer\"]\n",
    "        device_names = jmespath.search(\"sites[*].locations[*].systems[*].devices[*].name\", project) \n",
    "        device_names_list.append(device_names)"
   ]
  },
  {
   "cell_type": "code",
   "execution_count": null,
   "metadata": {},
   "outputs": [],
   "source": [
    "\n",
    "customer_devices = {} \n",
    "with open(data, \"r\") as file:\n",
    "    yaml_content = yaml.safe_load(file)\n",
    "    projects = yaml_content[\"projects\"]\n",
    "    for project in projects:\n",
    "        customer = project[\"customer\"]\n",
    "        if customer not in customer_devices:\n",
    "            customer_devices[customer] = []\n",
    "        device_names_result = jmespath.search(\"sites[*].locations[*].systems[*].devices[*].name\", project)\n",
    "        for level1 in device_names_result:\n",
    "            for level2 in level1:\n",
    "                for level3 in level2:\n",
    "                    for name in level3:\n",
    "                        if name is not None:\n",
    "                            customer_devices[customer].append(name)\n",
    "        "
   ]
  },
  {
   "cell_type": "code",
   "execution_count": null,
   "metadata": {},
   "outputs": [],
   "source": [
    "devices_df = pd.DataFrame(customer_devices)\n"
   ]
  },
  {
   "cell_type": "code",
   "execution_count": null,
   "metadata": {},
   "outputs": [],
   "source": [
    "devices_df=pd.melt(devices_df,value_vars=['HaustechnikRCP']).rename(columns={\"variable\":\"CustomerNameNew\", \"value\":\"name\"})"
   ]
  },
  {
   "cell_type": "code",
   "execution_count": null,
   "metadata": {},
   "outputs": [
    {
     "data": {
      "text/html": [
       "<div>\n",
       "<style scoped>\n",
       "    .dataframe tbody tr th:only-of-type {\n",
       "        vertical-align: middle;\n",
       "    }\n",
       "\n",
       "    .dataframe tbody tr th {\n",
       "        vertical-align: top;\n",
       "    }\n",
       "\n",
       "    .dataframe thead th {\n",
       "        text-align: right;\n",
       "    }\n",
       "</style>\n",
       "<table border=\"1\" class=\"dataframe\">\n",
       "  <thead>\n",
       "    <tr style=\"text-align: right;\">\n",
       "      <th></th>\n",
       "      <th>CustomerNameNew</th>\n",
       "      <th>name</th>\n",
       "    </tr>\n",
       "  </thead>\n",
       "  <tbody>\n",
       "    <tr>\n",
       "      <th>0</th>\n",
       "      <td>HaustechnikRCP</td>\n",
       "      <td>GKC-A848FA86D8E4-002</td>\n",
       "    </tr>\n",
       "    <tr>\n",
       "      <th>1</th>\n",
       "      <td>HaustechnikRCP</td>\n",
       "      <td>GKC-A848FA86D8E4-003</td>\n",
       "    </tr>\n",
       "    <tr>\n",
       "      <th>2</th>\n",
       "      <td>HaustechnikRCP</td>\n",
       "      <td>GKC-A848FA86D8E4-004</td>\n",
       "    </tr>\n",
       "    <tr>\n",
       "      <th>3</th>\n",
       "      <td>HaustechnikRCP</td>\n",
       "      <td>GKC-A848FA86D8E4-005</td>\n",
       "    </tr>\n",
       "    <tr>\n",
       "      <th>4</th>\n",
       "      <td>HaustechnikRCP</td>\n",
       "      <td>GKC-A848FA86D8E4-016</td>\n",
       "    </tr>\n",
       "  </tbody>\n",
       "</table>\n",
       "</div>"
      ],
      "text/plain": [
       "  CustomerNameNew                  name\n",
       "0  HaustechnikRCP  GKC-A848FA86D8E4-002\n",
       "1  HaustechnikRCP  GKC-A848FA86D8E4-003\n",
       "2  HaustechnikRCP  GKC-A848FA86D8E4-004\n",
       "3  HaustechnikRCP  GKC-A848FA86D8E4-005\n",
       "4  HaustechnikRCP  GKC-A848FA86D8E4-016"
      ]
     },
     "execution_count": 40,
     "metadata": {},
     "output_type": "execute_result"
    }
   ],
   "source": [
    "devices_df.head()"
   ]
  },
  {
   "cell_type": "code",
   "execution_count": null,
   "metadata": {},
   "outputs": [
    {
     "data": {
      "text/plain": [
       "CustomerNameNew    0\n",
       "name               0\n",
       "dtype: int64"
      ]
     },
     "execution_count": 41,
     "metadata": {},
     "output_type": "execute_result"
    }
   ],
   "source": [
    "devices_df.isna().sum()"
   ]
  },
  {
   "cell_type": "code",
   "execution_count": null,
   "metadata": {},
   "outputs": [
    {
     "data": {
      "text/plain": [
       "(39, 2)"
      ]
     },
     "execution_count": 42,
     "metadata": {},
     "output_type": "execute_result"
    }
   ],
   "source": [
    "devices_df.shape"
   ]
  },
  {
   "cell_type": "code",
   "execution_count": null,
   "metadata": {},
   "outputs": [
    {
     "data": {
      "text/plain": [
       "(65, 6)"
      ]
     },
     "execution_count": 43,
     "metadata": {},
     "output_type": "execute_result"
    }
   ],
   "source": [
    "df_from_old.shape"
   ]
  },
  {
   "cell_type": "code",
   "execution_count": null,
   "metadata": {},
   "outputs": [],
   "source": [
    "df_from_old[\"name\"] = df_from_old[\"name\"].astype(str)\n",
    "devices_df[\"name\"] = devices_df[\"name\"].astype(str)"
   ]
  },
  {
   "cell_type": "code",
   "execution_count": null,
   "metadata": {},
   "outputs": [],
   "source": [
    "\n",
    "both_have = df_from_old.join(devices_df.set_index(\"name\"), on=\"name\", how=\"inner\")"
   ]
  },
  {
   "cell_type": "code",
   "execution_count": null,
   "metadata": {},
   "outputs": [
    {
     "data": {
      "text/html": [
       "<div>\n",
       "<style scoped>\n",
       "    .dataframe tbody tr th:only-of-type {\n",
       "        vertical-align: middle;\n",
       "    }\n",
       "\n",
       "    .dataframe tbody tr th {\n",
       "        vertical-align: top;\n",
       "    }\n",
       "\n",
       "    .dataframe thead th {\n",
       "        text-align: right;\n",
       "    }\n",
       "</style>\n",
       "<table border=\"1\" class=\"dataframe\">\n",
       "  <thead>\n",
       "    <tr style=\"text-align: right;\">\n",
       "      <th></th>\n",
       "      <th>name</th>\n",
       "      <th>id</th>\n",
       "      <th>type</th>\n",
       "      <th>label</th>\n",
       "      <th>customerId</th>\n",
       "      <th>CustomerName</th>\n",
       "      <th>CustomerNameNew</th>\n",
       "    </tr>\n",
       "  </thead>\n",
       "  <tbody>\n",
       "    <tr>\n",
       "      <th>0</th>\n",
       "      <td>GKC-A848FA86D8E4-002</td>\n",
       "      <td>0571c980-270f-11ee-bc9b-1d7b9ef08863</td>\n",
       "      <td>Modbus V6 Fan</td>\n",
       "      <td>AB-08 Venti 4</td>\n",
       "      <td>4412d9e0-ab8c-11ec-bcd8-afb5f342d01b</td>\n",
       "      <td>Daume</td>\n",
       "      <td>HaustechnikRCP</td>\n",
       "    </tr>\n",
       "    <tr>\n",
       "      <th>2</th>\n",
       "      <td>GKC-A848FA86D8E4-003</td>\n",
       "      <td>0c7067f0-270f-11ee-bc9b-1d7b9ef08863</td>\n",
       "      <td>Modbus V6 Fan</td>\n",
       "      <td>AB-08 Venti 3</td>\n",
       "      <td>4412d9e0-ab8c-11ec-bcd8-afb5f342d01b</td>\n",
       "      <td>Daume</td>\n",
       "      <td>HaustechnikRCP</td>\n",
       "    </tr>\n",
       "    <tr>\n",
       "      <th>3</th>\n",
       "      <td>GKC-A848FA870B50-013</td>\n",
       "      <td>0d876b50-2711-11ee-927a-b9de331472ce</td>\n",
       "      <td>Modbus V6 Fan</td>\n",
       "      <td>ZU-10 Venti 1</td>\n",
       "      <td>4412d9e0-ab8c-11ec-bcd8-afb5f342d01b</td>\n",
       "      <td>Daume</td>\n",
       "      <td>HaustechnikRCP</td>\n",
       "    </tr>\n",
       "    <tr>\n",
       "      <th>4</th>\n",
       "      <td>GKC-A848FA86D8E4-004</td>\n",
       "      <td>16a5ee70-270f-11ee-927a-b9de331472ce</td>\n",
       "      <td>Modbus V6 Fan</td>\n",
       "      <td>AB-08 Venti 2</td>\n",
       "      <td>4412d9e0-ab8c-11ec-bcd8-afb5f342d01b</td>\n",
       "      <td>Daume</td>\n",
       "      <td>HaustechnikRCP</td>\n",
       "    </tr>\n",
       "    <tr>\n",
       "      <th>8</th>\n",
       "      <td>GKC-A848FA870B50-002</td>\n",
       "      <td>25327d90-2710-11ee-927a-b9de331472ce</td>\n",
       "      <td>Modbus V6 Fan</td>\n",
       "      <td>AB-10 Venti 8</td>\n",
       "      <td>4412d9e0-ab8c-11ec-bcd8-afb5f342d01b</td>\n",
       "      <td>Daume</td>\n",
       "      <td>HaustechnikRCP</td>\n",
       "    </tr>\n",
       "  </tbody>\n",
       "</table>\n",
       "</div>"
      ],
      "text/plain": [
       "                   name                                    id           type  \\\n",
       "0  GKC-A848FA86D8E4-002  0571c980-270f-11ee-bc9b-1d7b9ef08863  Modbus V6 Fan   \n",
       "2  GKC-A848FA86D8E4-003  0c7067f0-270f-11ee-bc9b-1d7b9ef08863  Modbus V6 Fan   \n",
       "3  GKC-A848FA870B50-013  0d876b50-2711-11ee-927a-b9de331472ce  Modbus V6 Fan   \n",
       "4  GKC-A848FA86D8E4-004  16a5ee70-270f-11ee-927a-b9de331472ce  Modbus V6 Fan   \n",
       "8  GKC-A848FA870B50-002  25327d90-2710-11ee-927a-b9de331472ce  Modbus V6 Fan   \n",
       "\n",
       "           label                            customerId CustomerName  \\\n",
       "0  AB-08 Venti 4  4412d9e0-ab8c-11ec-bcd8-afb5f342d01b        Daume   \n",
       "2  AB-08 Venti 3  4412d9e0-ab8c-11ec-bcd8-afb5f342d01b        Daume   \n",
       "3  ZU-10 Venti 1  4412d9e0-ab8c-11ec-bcd8-afb5f342d01b        Daume   \n",
       "4  AB-08 Venti 2  4412d9e0-ab8c-11ec-bcd8-afb5f342d01b        Daume   \n",
       "8  AB-10 Venti 8  4412d9e0-ab8c-11ec-bcd8-afb5f342d01b        Daume   \n",
       "\n",
       "  CustomerNameNew  \n",
       "0  HaustechnikRCP  \n",
       "2  HaustechnikRCP  \n",
       "3  HaustechnikRCP  \n",
       "4  HaustechnikRCP  \n",
       "8  HaustechnikRCP  "
      ]
     },
     "execution_count": 46,
     "metadata": {},
     "output_type": "execute_result"
    }
   ],
   "source": [
    "both_have.head()"
   ]
  },
  {
   "cell_type": "code",
   "execution_count": null,
   "metadata": {},
   "outputs": [
    {
     "data": {
      "text/plain": [
       "(39, 7)"
      ]
     },
     "execution_count": 47,
     "metadata": {},
     "output_type": "execute_result"
    }
   ],
   "source": [
    "both_have.shape"
   ]
  },
  {
   "cell_type": "markdown",
   "metadata": {},
   "source": []
  },
  {
   "cell_type": "code",
   "execution_count": null,
   "metadata": {},
   "outputs": [],
   "source": [
    "full_old"
   ]
  },
  {
   "cell_type": "markdown",
   "metadata": {},
   "source": [
    "# Devices that exist in the old system but not in the new system\n"
   ]
  },
  {
   "cell_type": "code",
   "execution_count": null,
   "metadata": {},
   "outputs": [],
   "source": [
    "full_old= df_from_old.join(devices_df.set_index(\"name\"), on=\"name\", how=\"left\")"
   ]
  },
  {
   "cell_type": "code",
   "execution_count": null,
   "metadata": {},
   "outputs": [
    {
     "data": {
      "text/html": [
       "<div>\n",
       "<style scoped>\n",
       "    .dataframe tbody tr th:only-of-type {\n",
       "        vertical-align: middle;\n",
       "    }\n",
       "\n",
       "    .dataframe tbody tr th {\n",
       "        vertical-align: top;\n",
       "    }\n",
       "\n",
       "    .dataframe thead th {\n",
       "        text-align: right;\n",
       "    }\n",
       "</style>\n",
       "<table border=\"1\" class=\"dataframe\">\n",
       "  <thead>\n",
       "    <tr style=\"text-align: right;\">\n",
       "      <th></th>\n",
       "      <th>name</th>\n",
       "      <th>id</th>\n",
       "      <th>type</th>\n",
       "      <th>label</th>\n",
       "      <th>customerId</th>\n",
       "      <th>CustomerName</th>\n",
       "      <th>CustomerNameNew</th>\n",
       "    </tr>\n",
       "  </thead>\n",
       "  <tbody>\n",
       "    <tr>\n",
       "      <th>0</th>\n",
       "      <td>GKC-A848FA86D8E4-002</td>\n",
       "      <td>0571c980-270f-11ee-bc9b-1d7b9ef08863</td>\n",
       "      <td>Modbus V6 Fan</td>\n",
       "      <td>AB-08 Venti 4</td>\n",
       "      <td>4412d9e0-ab8c-11ec-bcd8-afb5f342d01b</td>\n",
       "      <td>Daume</td>\n",
       "      <td>HaustechnikRCP</td>\n",
       "    </tr>\n",
       "    <tr>\n",
       "      <th>1</th>\n",
       "      <td>GKC-A848FA87769C-021</td>\n",
       "      <td>074033d0-92c7-11ef-bb66-09a77fdcecde</td>\n",
       "      <td>Thermokon</td>\n",
       "      <td>NaN</td>\n",
       "      <td>4412d9e0-ab8c-11ec-bcd8-afb5f342d01b</td>\n",
       "      <td>Daume</td>\n",
       "      <td>NaN</td>\n",
       "    </tr>\n",
       "    <tr>\n",
       "      <th>2</th>\n",
       "      <td>GKC-A848FA86D8E4-003</td>\n",
       "      <td>0c7067f0-270f-11ee-bc9b-1d7b9ef08863</td>\n",
       "      <td>Modbus V6 Fan</td>\n",
       "      <td>AB-08 Venti 3</td>\n",
       "      <td>4412d9e0-ab8c-11ec-bcd8-afb5f342d01b</td>\n",
       "      <td>Daume</td>\n",
       "      <td>HaustechnikRCP</td>\n",
       "    </tr>\n",
       "    <tr>\n",
       "      <th>3</th>\n",
       "      <td>GKC-A848FA870B50-013</td>\n",
       "      <td>0d876b50-2711-11ee-927a-b9de331472ce</td>\n",
       "      <td>Modbus V6 Fan</td>\n",
       "      <td>ZU-10 Venti 1</td>\n",
       "      <td>4412d9e0-ab8c-11ec-bcd8-afb5f342d01b</td>\n",
       "      <td>Daume</td>\n",
       "      <td>HaustechnikRCP</td>\n",
       "    </tr>\n",
       "    <tr>\n",
       "      <th>4</th>\n",
       "      <td>GKC-A848FA86D8E4-004</td>\n",
       "      <td>16a5ee70-270f-11ee-927a-b9de331472ce</td>\n",
       "      <td>Modbus V6 Fan</td>\n",
       "      <td>AB-08 Venti 2</td>\n",
       "      <td>4412d9e0-ab8c-11ec-bcd8-afb5f342d01b</td>\n",
       "      <td>Daume</td>\n",
       "      <td>HaustechnikRCP</td>\n",
       "    </tr>\n",
       "  </tbody>\n",
       "</table>\n",
       "</div>"
      ],
      "text/plain": [
       "                   name                                    id           type  \\\n",
       "0  GKC-A848FA86D8E4-002  0571c980-270f-11ee-bc9b-1d7b9ef08863  Modbus V6 Fan   \n",
       "1  GKC-A848FA87769C-021  074033d0-92c7-11ef-bb66-09a77fdcecde      Thermokon   \n",
       "2  GKC-A848FA86D8E4-003  0c7067f0-270f-11ee-bc9b-1d7b9ef08863  Modbus V6 Fan   \n",
       "3  GKC-A848FA870B50-013  0d876b50-2711-11ee-927a-b9de331472ce  Modbus V6 Fan   \n",
       "4  GKC-A848FA86D8E4-004  16a5ee70-270f-11ee-927a-b9de331472ce  Modbus V6 Fan   \n",
       "\n",
       "           label                            customerId CustomerName  \\\n",
       "0  AB-08 Venti 4  4412d9e0-ab8c-11ec-bcd8-afb5f342d01b        Daume   \n",
       "1            NaN  4412d9e0-ab8c-11ec-bcd8-afb5f342d01b        Daume   \n",
       "2  AB-08 Venti 3  4412d9e0-ab8c-11ec-bcd8-afb5f342d01b        Daume   \n",
       "3  ZU-10 Venti 1  4412d9e0-ab8c-11ec-bcd8-afb5f342d01b        Daume   \n",
       "4  AB-08 Venti 2  4412d9e0-ab8c-11ec-bcd8-afb5f342d01b        Daume   \n",
       "\n",
       "  CustomerNameNew  \n",
       "0  HaustechnikRCP  \n",
       "1             NaN  \n",
       "2  HaustechnikRCP  \n",
       "3  HaustechnikRCP  \n",
       "4  HaustechnikRCP  "
      ]
     },
     "execution_count": 49,
     "metadata": {},
     "output_type": "execute_result"
    }
   ],
   "source": [
    "full_old.head()"
   ]
  },
  {
   "cell_type": "code",
   "execution_count": null,
   "metadata": {},
   "outputs": [
    {
     "name": "stdout",
     "output_type": "stream",
     "text": [
      "There are 26 devices that exist in the old system but not in the new system.\n"
     ]
    }
   ],
   "source": [
    "print(f\"There are {full_old['CustomerNameNew'].isna().sum()} devices that exist in the old system but not in the new system.\")\n"
   ]
  },
  {
   "cell_type": "code",
   "execution_count": null,
   "metadata": {},
   "outputs": [
    {
     "data": {
      "text/plain": [
       "np.int64(26)"
      ]
     },
     "execution_count": 51,
     "metadata": {},
     "output_type": "execute_result"
    }
   ],
   "source": [
    "full_old[\"CustomerNameNew\"].isna().sum()"
   ]
  },
  {
   "cell_type": "code",
   "execution_count": null,
   "metadata": {},
   "outputs": [
    {
     "data": {
      "text/html": [
       "<div>\n",
       "<style scoped>\n",
       "    .dataframe tbody tr th:only-of-type {\n",
       "        vertical-align: middle;\n",
       "    }\n",
       "\n",
       "    .dataframe tbody tr th {\n",
       "        vertical-align: top;\n",
       "    }\n",
       "\n",
       "    .dataframe thead th {\n",
       "        text-align: right;\n",
       "    }\n",
       "</style>\n",
       "<table border=\"1\" class=\"dataframe\">\n",
       "  <thead>\n",
       "    <tr style=\"text-align: right;\">\n",
       "      <th></th>\n",
       "      <th>name</th>\n",
       "      <th>id</th>\n",
       "      <th>type</th>\n",
       "      <th>label</th>\n",
       "      <th>customerId</th>\n",
       "      <th>CustomerName</th>\n",
       "      <th>CustomerNameNew</th>\n",
       "    </tr>\n",
       "  </thead>\n",
       "  <tbody>\n",
       "    <tr>\n",
       "      <th>1</th>\n",
       "      <td>GKC-A848FA87769C-021</td>\n",
       "      <td>074033d0-92c7-11ef-bb66-09a77fdcecde</td>\n",
       "      <td>Thermokon</td>\n",
       "      <td>NaN</td>\n",
       "      <td>4412d9e0-ab8c-11ec-bcd8-afb5f342d01b</td>\n",
       "      <td>Daume</td>\n",
       "      <td>NaN</td>\n",
       "    </tr>\n",
       "    <tr>\n",
       "      <th>5</th>\n",
       "      <td>GKC-A848FA87769C-012</td>\n",
       "      <td>1c44db00-92c2-11ef-b675-81d50ee23e1f</td>\n",
       "      <td>Modbus V6 Fan</td>\n",
       "      <td>ZU-15 Venti 3</td>\n",
       "      <td>4412d9e0-ab8c-11ec-bcd8-afb5f342d01b</td>\n",
       "      <td>Daume</td>\n",
       "      <td>NaN</td>\n",
       "    </tr>\n",
       "    <tr>\n",
       "      <th>6</th>\n",
       "      <td>GKC-A848FA87769C-011</td>\n",
       "      <td>1c4e9f00-92c2-11ef-b675-81d50ee23e1f</td>\n",
       "      <td>Modbus V6 Fan</td>\n",
       "      <td>ZU-15 Venti 2</td>\n",
       "      <td>4412d9e0-ab8c-11ec-bcd8-afb5f342d01b</td>\n",
       "      <td>Daume</td>\n",
       "      <td>NaN</td>\n",
       "    </tr>\n",
       "    <tr>\n",
       "      <th>7</th>\n",
       "      <td>GKC-A848FA87769C-010</td>\n",
       "      <td>1c566730-92c2-11ef-b675-81d50ee23e1f</td>\n",
       "      <td>Modbus V6 Fan</td>\n",
       "      <td>ZU-15 Venti 1</td>\n",
       "      <td>4412d9e0-ab8c-11ec-bcd8-afb5f342d01b</td>\n",
       "      <td>Daume</td>\n",
       "      <td>NaN</td>\n",
       "    </tr>\n",
       "    <tr>\n",
       "      <th>10</th>\n",
       "      <td>GKC-A848FA86C458</td>\n",
       "      <td>2906b580-4af2-11ed-9a85-43b5866161ae</td>\n",
       "      <td>IntelliGateAIR</td>\n",
       "      <td>NaN</td>\n",
       "      <td>4412d9e0-ab8c-11ec-bcd8-afb5f342d01b</td>\n",
       "      <td>Daume</td>\n",
       "      <td>NaN</td>\n",
       "    </tr>\n",
       "    <tr>\n",
       "      <th>12</th>\n",
       "      <td>GKC-A848FA880220</td>\n",
       "      <td>32ccc230-8beb-11ef-bb66-09a77fdcecde</td>\n",
       "      <td>IntelliGateAIR</td>\n",
       "      <td>NaN</td>\n",
       "      <td>4412d9e0-ab8c-11ec-bcd8-afb5f342d01b</td>\n",
       "      <td>Daume</td>\n",
       "      <td>NaN</td>\n",
       "    </tr>\n",
       "    <tr>\n",
       "      <th>13</th>\n",
       "      <td>GKC-A848FA8784F4</td>\n",
       "      <td>33724420-9afe-11ec-bcd8-afb5f342d01b</td>\n",
       "      <td>IntelliGateAIR</td>\n",
       "      <td>NaN</td>\n",
       "      <td>4412d9e0-ab8c-11ec-bcd8-afb5f342d01b</td>\n",
       "      <td>Daume</td>\n",
       "      <td>NaN</td>\n",
       "    </tr>\n",
       "    <tr>\n",
       "      <th>15</th>\n",
       "      <td>GKC-A848FA87769C-002</td>\n",
       "      <td>3c247f30-92b7-11ef-bb66-09a77fdcecde</td>\n",
       "      <td>Modbus V6 Fan</td>\n",
       "      <td>AB-15 Venti 1</td>\n",
       "      <td>4412d9e0-ab8c-11ec-bcd8-afb5f342d01b</td>\n",
       "      <td>Daume</td>\n",
       "      <td>NaN</td>\n",
       "    </tr>\n",
       "    <tr>\n",
       "      <th>24</th>\n",
       "      <td>GKC-A848FA870B50</td>\n",
       "      <td>3d3d4ac0-0c2e-11ee-a50f-b5cb373dcb6a</td>\n",
       "      <td>IntelliGateAIR</td>\n",
       "      <td>NaN</td>\n",
       "      <td>4412d9e0-ab8c-11ec-bcd8-afb5f342d01b</td>\n",
       "      <td>Daume</td>\n",
       "      <td>NaN</td>\n",
       "    </tr>\n",
       "    <tr>\n",
       "      <th>26</th>\n",
       "      <td>GKC-A848FA87769C-003</td>\n",
       "      <td>4010ad80-92b7-11ef-bb66-09a77fdcecde</td>\n",
       "      <td>Modbus V6 Fan</td>\n",
       "      <td>AB-15 Venti 2</td>\n",
       "      <td>4412d9e0-ab8c-11ec-bcd8-afb5f342d01b</td>\n",
       "      <td>Daume</td>\n",
       "      <td>NaN</td>\n",
       "    </tr>\n",
       "    <tr>\n",
       "      <th>27</th>\n",
       "      <td>GKC-A848FA87769C-022</td>\n",
       "      <td>406d5930-92c7-11ef-bb66-09a77fdcecde</td>\n",
       "      <td>Thermokon</td>\n",
       "      <td>NaN</td>\n",
       "      <td>4412d9e0-ab8c-11ec-bcd8-afb5f342d01b</td>\n",
       "      <td>Daume</td>\n",
       "      <td>NaN</td>\n",
       "    </tr>\n",
       "    <tr>\n",
       "      <th>28</th>\n",
       "      <td>GKC-A848FA87769C-004</td>\n",
       "      <td>4435c620-92b7-11ef-bb66-09a77fdcecde</td>\n",
       "      <td>Modbus V6 Fan</td>\n",
       "      <td>AB-15 Venti 3</td>\n",
       "      <td>4412d9e0-ab8c-11ec-bcd8-afb5f342d01b</td>\n",
       "      <td>Daume</td>\n",
       "      <td>NaN</td>\n",
       "    </tr>\n",
       "    <tr>\n",
       "      <th>30</th>\n",
       "      <td>GKC-A848FA87769C-005</td>\n",
       "      <td>48b66c40-92b7-11ef-bb66-09a77fdcecde</td>\n",
       "      <td>Modbus V6 Fan</td>\n",
       "      <td>AB-15 Venti 4</td>\n",
       "      <td>4412d9e0-ab8c-11ec-bcd8-afb5f342d01b</td>\n",
       "      <td>Daume</td>\n",
       "      <td>NaN</td>\n",
       "    </tr>\n",
       "    <tr>\n",
       "      <th>31</th>\n",
       "      <td>GKC-A848FA87769C-006</td>\n",
       "      <td>4d30f7e0-92b7-11ef-bb66-09a77fdcecde</td>\n",
       "      <td>Modbus V6 Fan</td>\n",
       "      <td>AB-15 Venti 5</td>\n",
       "      <td>4412d9e0-ab8c-11ec-bcd8-afb5f342d01b</td>\n",
       "      <td>Daume</td>\n",
       "      <td>NaN</td>\n",
       "    </tr>\n",
       "    <tr>\n",
       "      <th>32</th>\n",
       "      <td>GKC-A848FA87769C-007</td>\n",
       "      <td>507f5f90-92b7-11ef-bb66-09a77fdcecde</td>\n",
       "      <td>Modbus V6 Fan</td>\n",
       "      <td>AB-15 Venti 6</td>\n",
       "      <td>4412d9e0-ab8c-11ec-bcd8-afb5f342d01b</td>\n",
       "      <td>Daume</td>\n",
       "      <td>NaN</td>\n",
       "    </tr>\n",
       "    <tr>\n",
       "      <th>35</th>\n",
       "      <td>GKC-A848FA87769C-008</td>\n",
       "      <td>57aa8c40-92b7-11ef-bb66-09a77fdcecde</td>\n",
       "      <td>Modbus V6 Fan</td>\n",
       "      <td>AB-15 Venti 7</td>\n",
       "      <td>4412d9e0-ab8c-11ec-bcd8-afb5f342d01b</td>\n",
       "      <td>Daume</td>\n",
       "      <td>NaN</td>\n",
       "    </tr>\n",
       "    <tr>\n",
       "      <th>36</th>\n",
       "      <td>GKC-A848FA87769C-009</td>\n",
       "      <td>5b40ab50-92b7-11ef-bb66-09a77fdcecde</td>\n",
       "      <td>Modbus V6 Fan</td>\n",
       "      <td>AB-15 Venti 8</td>\n",
       "      <td>4412d9e0-ab8c-11ec-bcd8-afb5f342d01b</td>\n",
       "      <td>Daume</td>\n",
       "      <td>NaN</td>\n",
       "    </tr>\n",
       "    <tr>\n",
       "      <th>39</th>\n",
       "      <td>GKC-A848FA86C458-016</td>\n",
       "      <td>6f7bd4b0-4af6-11ed-9a85-43b5866161ae</td>\n",
       "      <td>Thermokon</td>\n",
       "      <td>NaN</td>\n",
       "      <td>4412d9e0-ab8c-11ec-bcd8-afb5f342d01b</td>\n",
       "      <td>Daume</td>\n",
       "      <td>NaN</td>\n",
       "    </tr>\n",
       "    <tr>\n",
       "      <th>43</th>\n",
       "      <td>GKC-A848FA87769C-013</td>\n",
       "      <td>70d01640-92c6-11ef-bb66-09a77fdcecde</td>\n",
       "      <td>Modbus V6 Fan</td>\n",
       "      <td>ZU-15 Venti 4</td>\n",
       "      <td>4412d9e0-ab8c-11ec-bcd8-afb5f342d01b</td>\n",
       "      <td>Daume</td>\n",
       "      <td>NaN</td>\n",
       "    </tr>\n",
       "    <tr>\n",
       "      <th>45</th>\n",
       "      <td>GKC-A848FA86D8E4</td>\n",
       "      <td>8a60d280-219c-11ee-927a-b9de331472ce</td>\n",
       "      <td>IntelliGateAIR</td>\n",
       "      <td>NaN</td>\n",
       "      <td>4412d9e0-ab8c-11ec-bcd8-afb5f342d01b</td>\n",
       "      <td>Daume</td>\n",
       "      <td>NaN</td>\n",
       "    </tr>\n",
       "    <tr>\n",
       "      <th>49</th>\n",
       "      <td>GKC-A848FA8784F4-016</td>\n",
       "      <td>9beb17f0-a5d7-11ec-bcd8-afb5f342d01b</td>\n",
       "      <td>Thermokon</td>\n",
       "      <td>NaN</td>\n",
       "      <td>4412d9e0-ab8c-11ec-bcd8-afb5f342d01b</td>\n",
       "      <td>Daume</td>\n",
       "      <td>NaN</td>\n",
       "    </tr>\n",
       "    <tr>\n",
       "      <th>51</th>\n",
       "      <td>GKC-A848FA870B50-009</td>\n",
       "      <td>a432d9a0-2710-11ee-927a-b9de331472ce</td>\n",
       "      <td>Modbus V6 Fan</td>\n",
       "      <td>AB-10 Venti 1</td>\n",
       "      <td>4412d9e0-ab8c-11ec-bcd8-afb5f342d01b</td>\n",
       "      <td>Daume</td>\n",
       "      <td>NaN</td>\n",
       "    </tr>\n",
       "    <tr>\n",
       "      <th>52</th>\n",
       "      <td>GKC-A848FA87769C-016</td>\n",
       "      <td>aa0e79b0-92c6-11ef-bb66-09a77fdcecde</td>\n",
       "      <td>Thermokon</td>\n",
       "      <td>NaN</td>\n",
       "      <td>4412d9e0-ab8c-11ec-bcd8-afb5f342d01b</td>\n",
       "      <td>Daume</td>\n",
       "      <td>NaN</td>\n",
       "    </tr>\n",
       "    <tr>\n",
       "      <th>53</th>\n",
       "      <td>GKC-A848FA87769C-020</td>\n",
       "      <td>b13846d0-92c6-11ef-bb66-09a77fdcecde</td>\n",
       "      <td>Thermokon</td>\n",
       "      <td>NaN</td>\n",
       "      <td>4412d9e0-ab8c-11ec-bcd8-afb5f342d01b</td>\n",
       "      <td>Daume</td>\n",
       "      <td>NaN</td>\n",
       "    </tr>\n",
       "    <tr>\n",
       "      <th>56</th>\n",
       "      <td>GKC-A848FA871D08-016</td>\n",
       "      <td>bded4d00-a5d7-11ec-bcd8-afb5f342d01b</td>\n",
       "      <td>Thermokon</td>\n",
       "      <td>NaN</td>\n",
       "      <td>4412d9e0-ab8c-11ec-bcd8-afb5f342d01b</td>\n",
       "      <td>Daume</td>\n",
       "      <td>NaN</td>\n",
       "    </tr>\n",
       "    <tr>\n",
       "      <th>58</th>\n",
       "      <td>GKC-A848FA871D08</td>\n",
       "      <td>d03b60f0-8f2f-11ec-bcd8-afb5f342d01b</td>\n",
       "      <td>IntelliGateAIR</td>\n",
       "      <td>NaN</td>\n",
       "      <td>4412d9e0-ab8c-11ec-bcd8-afb5f342d01b</td>\n",
       "      <td>Daume</td>\n",
       "      <td>NaN</td>\n",
       "    </tr>\n",
       "  </tbody>\n",
       "</table>\n",
       "</div>"
      ],
      "text/plain": [
       "                    name                                    id  \\\n",
       "1   GKC-A848FA87769C-021  074033d0-92c7-11ef-bb66-09a77fdcecde   \n",
       "5   GKC-A848FA87769C-012  1c44db00-92c2-11ef-b675-81d50ee23e1f   \n",
       "6   GKC-A848FA87769C-011  1c4e9f00-92c2-11ef-b675-81d50ee23e1f   \n",
       "7   GKC-A848FA87769C-010  1c566730-92c2-11ef-b675-81d50ee23e1f   \n",
       "10      GKC-A848FA86C458  2906b580-4af2-11ed-9a85-43b5866161ae   \n",
       "12      GKC-A848FA880220  32ccc230-8beb-11ef-bb66-09a77fdcecde   \n",
       "13      GKC-A848FA8784F4  33724420-9afe-11ec-bcd8-afb5f342d01b   \n",
       "15  GKC-A848FA87769C-002  3c247f30-92b7-11ef-bb66-09a77fdcecde   \n",
       "24      GKC-A848FA870B50  3d3d4ac0-0c2e-11ee-a50f-b5cb373dcb6a   \n",
       "26  GKC-A848FA87769C-003  4010ad80-92b7-11ef-bb66-09a77fdcecde   \n",
       "27  GKC-A848FA87769C-022  406d5930-92c7-11ef-bb66-09a77fdcecde   \n",
       "28  GKC-A848FA87769C-004  4435c620-92b7-11ef-bb66-09a77fdcecde   \n",
       "30  GKC-A848FA87769C-005  48b66c40-92b7-11ef-bb66-09a77fdcecde   \n",
       "31  GKC-A848FA87769C-006  4d30f7e0-92b7-11ef-bb66-09a77fdcecde   \n",
       "32  GKC-A848FA87769C-007  507f5f90-92b7-11ef-bb66-09a77fdcecde   \n",
       "35  GKC-A848FA87769C-008  57aa8c40-92b7-11ef-bb66-09a77fdcecde   \n",
       "36  GKC-A848FA87769C-009  5b40ab50-92b7-11ef-bb66-09a77fdcecde   \n",
       "39  GKC-A848FA86C458-016  6f7bd4b0-4af6-11ed-9a85-43b5866161ae   \n",
       "43  GKC-A848FA87769C-013  70d01640-92c6-11ef-bb66-09a77fdcecde   \n",
       "45      GKC-A848FA86D8E4  8a60d280-219c-11ee-927a-b9de331472ce   \n",
       "49  GKC-A848FA8784F4-016  9beb17f0-a5d7-11ec-bcd8-afb5f342d01b   \n",
       "51  GKC-A848FA870B50-009  a432d9a0-2710-11ee-927a-b9de331472ce   \n",
       "52  GKC-A848FA87769C-016  aa0e79b0-92c6-11ef-bb66-09a77fdcecde   \n",
       "53  GKC-A848FA87769C-020  b13846d0-92c6-11ef-bb66-09a77fdcecde   \n",
       "56  GKC-A848FA871D08-016  bded4d00-a5d7-11ec-bcd8-afb5f342d01b   \n",
       "58      GKC-A848FA871D08  d03b60f0-8f2f-11ec-bcd8-afb5f342d01b   \n",
       "\n",
       "              type          label                            customerId  \\\n",
       "1        Thermokon            NaN  4412d9e0-ab8c-11ec-bcd8-afb5f342d01b   \n",
       "5    Modbus V6 Fan  ZU-15 Venti 3  4412d9e0-ab8c-11ec-bcd8-afb5f342d01b   \n",
       "6    Modbus V6 Fan  ZU-15 Venti 2  4412d9e0-ab8c-11ec-bcd8-afb5f342d01b   \n",
       "7    Modbus V6 Fan  ZU-15 Venti 1  4412d9e0-ab8c-11ec-bcd8-afb5f342d01b   \n",
       "10  IntelliGateAIR            NaN  4412d9e0-ab8c-11ec-bcd8-afb5f342d01b   \n",
       "12  IntelliGateAIR            NaN  4412d9e0-ab8c-11ec-bcd8-afb5f342d01b   \n",
       "13  IntelliGateAIR            NaN  4412d9e0-ab8c-11ec-bcd8-afb5f342d01b   \n",
       "15   Modbus V6 Fan  AB-15 Venti 1  4412d9e0-ab8c-11ec-bcd8-afb5f342d01b   \n",
       "24  IntelliGateAIR            NaN  4412d9e0-ab8c-11ec-bcd8-afb5f342d01b   \n",
       "26   Modbus V6 Fan  AB-15 Venti 2  4412d9e0-ab8c-11ec-bcd8-afb5f342d01b   \n",
       "27       Thermokon            NaN  4412d9e0-ab8c-11ec-bcd8-afb5f342d01b   \n",
       "28   Modbus V6 Fan  AB-15 Venti 3  4412d9e0-ab8c-11ec-bcd8-afb5f342d01b   \n",
       "30   Modbus V6 Fan  AB-15 Venti 4  4412d9e0-ab8c-11ec-bcd8-afb5f342d01b   \n",
       "31   Modbus V6 Fan  AB-15 Venti 5  4412d9e0-ab8c-11ec-bcd8-afb5f342d01b   \n",
       "32   Modbus V6 Fan  AB-15 Venti 6  4412d9e0-ab8c-11ec-bcd8-afb5f342d01b   \n",
       "35   Modbus V6 Fan  AB-15 Venti 7  4412d9e0-ab8c-11ec-bcd8-afb5f342d01b   \n",
       "36   Modbus V6 Fan  AB-15 Venti 8  4412d9e0-ab8c-11ec-bcd8-afb5f342d01b   \n",
       "39       Thermokon            NaN  4412d9e0-ab8c-11ec-bcd8-afb5f342d01b   \n",
       "43   Modbus V6 Fan  ZU-15 Venti 4  4412d9e0-ab8c-11ec-bcd8-afb5f342d01b   \n",
       "45  IntelliGateAIR            NaN  4412d9e0-ab8c-11ec-bcd8-afb5f342d01b   \n",
       "49       Thermokon            NaN  4412d9e0-ab8c-11ec-bcd8-afb5f342d01b   \n",
       "51   Modbus V6 Fan  AB-10 Venti 1  4412d9e0-ab8c-11ec-bcd8-afb5f342d01b   \n",
       "52       Thermokon            NaN  4412d9e0-ab8c-11ec-bcd8-afb5f342d01b   \n",
       "53       Thermokon            NaN  4412d9e0-ab8c-11ec-bcd8-afb5f342d01b   \n",
       "56       Thermokon            NaN  4412d9e0-ab8c-11ec-bcd8-afb5f342d01b   \n",
       "58  IntelliGateAIR            NaN  4412d9e0-ab8c-11ec-bcd8-afb5f342d01b   \n",
       "\n",
       "   CustomerName CustomerNameNew  \n",
       "1         Daume             NaN  \n",
       "5         Daume             NaN  \n",
       "6         Daume             NaN  \n",
       "7         Daume             NaN  \n",
       "10        Daume             NaN  \n",
       "12        Daume             NaN  \n",
       "13        Daume             NaN  \n",
       "15        Daume             NaN  \n",
       "24        Daume             NaN  \n",
       "26        Daume             NaN  \n",
       "27        Daume             NaN  \n",
       "28        Daume             NaN  \n",
       "30        Daume             NaN  \n",
       "31        Daume             NaN  \n",
       "32        Daume             NaN  \n",
       "35        Daume             NaN  \n",
       "36        Daume             NaN  \n",
       "39        Daume             NaN  \n",
       "43        Daume             NaN  \n",
       "45        Daume             NaN  \n",
       "49        Daume             NaN  \n",
       "51        Daume             NaN  \n",
       "52        Daume             NaN  \n",
       "53        Daume             NaN  \n",
       "56        Daume             NaN  \n",
       "58        Daume             NaN  "
      ]
     },
     "execution_count": 52,
     "metadata": {},
     "output_type": "execute_result"
    }
   ],
   "source": [
    "full_old[full_old[\"CustomerNameNew\"].isna()]"
   ]
  },
  {
   "cell_type": "code",
   "execution_count": null,
   "metadata": {},
   "outputs": [],
   "source": []
  },
  {
   "cell_type": "markdown",
   "metadata": {},
   "source": [
    "# Devices that exist NOT in the old system but in the new system"
   ]
  },
  {
   "cell_type": "code",
   "execution_count": null,
   "metadata": {},
   "outputs": [
    {
     "data": {
      "text/plain": [
       "(39, 7)"
      ]
     },
     "execution_count": 53,
     "metadata": {},
     "output_type": "execute_result"
    }
   ],
   "source": [
    "full_new= df_from_old.join(devices_df.set_index(\"name\"), on=\"name\", how=\"right\")\n",
    "full_new.shape"
   ]
  },
  {
   "cell_type": "code",
   "execution_count": null,
   "metadata": {},
   "outputs": [
    {
     "data": {
      "text/html": [
       "<div>\n",
       "<style scoped>\n",
       "    .dataframe tbody tr th:only-of-type {\n",
       "        vertical-align: middle;\n",
       "    }\n",
       "\n",
       "    .dataframe tbody tr th {\n",
       "        vertical-align: top;\n",
       "    }\n",
       "\n",
       "    .dataframe thead th {\n",
       "        text-align: right;\n",
       "    }\n",
       "</style>\n",
       "<table border=\"1\" class=\"dataframe\">\n",
       "  <thead>\n",
       "    <tr style=\"text-align: right;\">\n",
       "      <th></th>\n",
       "      <th>name</th>\n",
       "      <th>id</th>\n",
       "      <th>type</th>\n",
       "      <th>label</th>\n",
       "      <th>customerId</th>\n",
       "      <th>CustomerName</th>\n",
       "      <th>CustomerNameNew</th>\n",
       "    </tr>\n",
       "  </thead>\n",
       "  <tbody>\n",
       "    <tr>\n",
       "      <th>0</th>\n",
       "      <td>GKC-A848FA86D8E4-002</td>\n",
       "      <td>0571c980-270f-11ee-bc9b-1d7b9ef08863</td>\n",
       "      <td>Modbus V6 Fan</td>\n",
       "      <td>AB-08 Venti 4</td>\n",
       "      <td>4412d9e0-ab8c-11ec-bcd8-afb5f342d01b</td>\n",
       "      <td>Daume</td>\n",
       "      <td>HaustechnikRCP</td>\n",
       "    </tr>\n",
       "    <tr>\n",
       "      <th>2</th>\n",
       "      <td>GKC-A848FA86D8E4-003</td>\n",
       "      <td>0c7067f0-270f-11ee-bc9b-1d7b9ef08863</td>\n",
       "      <td>Modbus V6 Fan</td>\n",
       "      <td>AB-08 Venti 3</td>\n",
       "      <td>4412d9e0-ab8c-11ec-bcd8-afb5f342d01b</td>\n",
       "      <td>Daume</td>\n",
       "      <td>HaustechnikRCP</td>\n",
       "    </tr>\n",
       "    <tr>\n",
       "      <th>4</th>\n",
       "      <td>GKC-A848FA86D8E4-004</td>\n",
       "      <td>16a5ee70-270f-11ee-927a-b9de331472ce</td>\n",
       "      <td>Modbus V6 Fan</td>\n",
       "      <td>AB-08 Venti 2</td>\n",
       "      <td>4412d9e0-ab8c-11ec-bcd8-afb5f342d01b</td>\n",
       "      <td>Daume</td>\n",
       "      <td>HaustechnikRCP</td>\n",
       "    </tr>\n",
       "    <tr>\n",
       "      <th>9</th>\n",
       "      <td>GKC-A848FA86D8E4-005</td>\n",
       "      <td>28d3dcb0-270f-11ee-bc9b-1d7b9ef08863</td>\n",
       "      <td>Modbus V6 Fan</td>\n",
       "      <td>AB-08 Venti 1</td>\n",
       "      <td>4412d9e0-ab8c-11ec-bcd8-afb5f342d01b</td>\n",
       "      <td>Daume</td>\n",
       "      <td>HaustechnikRCP</td>\n",
       "    </tr>\n",
       "    <tr>\n",
       "      <th>33</th>\n",
       "      <td>GKC-A848FA86D8E4-016</td>\n",
       "      <td>54711570-2c7f-11ee-863a-01bce6d27c63</td>\n",
       "      <td>Thermokon</td>\n",
       "      <td>NaN</td>\n",
       "      <td>4412d9e0-ab8c-11ec-bcd8-afb5f342d01b</td>\n",
       "      <td>Daume</td>\n",
       "      <td>HaustechnikRCP</td>\n",
       "    </tr>\n",
       "  </tbody>\n",
       "</table>\n",
       "</div>"
      ],
      "text/plain": [
       "                    name                                    id           type  \\\n",
       "0   GKC-A848FA86D8E4-002  0571c980-270f-11ee-bc9b-1d7b9ef08863  Modbus V6 Fan   \n",
       "2   GKC-A848FA86D8E4-003  0c7067f0-270f-11ee-bc9b-1d7b9ef08863  Modbus V6 Fan   \n",
       "4   GKC-A848FA86D8E4-004  16a5ee70-270f-11ee-927a-b9de331472ce  Modbus V6 Fan   \n",
       "9   GKC-A848FA86D8E4-005  28d3dcb0-270f-11ee-bc9b-1d7b9ef08863  Modbus V6 Fan   \n",
       "33  GKC-A848FA86D8E4-016  54711570-2c7f-11ee-863a-01bce6d27c63      Thermokon   \n",
       "\n",
       "            label                            customerId CustomerName  \\\n",
       "0   AB-08 Venti 4  4412d9e0-ab8c-11ec-bcd8-afb5f342d01b        Daume   \n",
       "2   AB-08 Venti 3  4412d9e0-ab8c-11ec-bcd8-afb5f342d01b        Daume   \n",
       "4   AB-08 Venti 2  4412d9e0-ab8c-11ec-bcd8-afb5f342d01b        Daume   \n",
       "9   AB-08 Venti 1  4412d9e0-ab8c-11ec-bcd8-afb5f342d01b        Daume   \n",
       "33            NaN  4412d9e0-ab8c-11ec-bcd8-afb5f342d01b        Daume   \n",
       "\n",
       "   CustomerNameNew  \n",
       "0   HaustechnikRCP  \n",
       "2   HaustechnikRCP  \n",
       "4   HaustechnikRCP  \n",
       "9   HaustechnikRCP  \n",
       "33  HaustechnikRCP  "
      ]
     },
     "execution_count": 54,
     "metadata": {},
     "output_type": "execute_result"
    }
   ],
   "source": [
    "full_new.head()"
   ]
  },
  {
   "cell_type": "code",
   "execution_count": null,
   "metadata": {},
   "outputs": [
    {
     "data": {
      "text/plain": [
       "np.int64(0)"
      ]
     },
     "execution_count": 55,
     "metadata": {},
     "output_type": "execute_result"
    }
   ],
   "source": [
    "full_new[\"CustomerName\"].isna().sum()"
   ]
  },
  {
   "cell_type": "code",
   "execution_count": null,
   "metadata": {},
   "outputs": [
    {
     "data": {
      "text/html": [
       "<div>\n",
       "<style scoped>\n",
       "    .dataframe tbody tr th:only-of-type {\n",
       "        vertical-align: middle;\n",
       "    }\n",
       "\n",
       "    .dataframe tbody tr th {\n",
       "        vertical-align: top;\n",
       "    }\n",
       "\n",
       "    .dataframe thead th {\n",
       "        text-align: right;\n",
       "    }\n",
       "</style>\n",
       "<table border=\"1\" class=\"dataframe\">\n",
       "  <thead>\n",
       "    <tr style=\"text-align: right;\">\n",
       "      <th></th>\n",
       "      <th>name</th>\n",
       "      <th>id</th>\n",
       "      <th>type</th>\n",
       "      <th>label</th>\n",
       "      <th>customerId</th>\n",
       "      <th>CustomerName</th>\n",
       "      <th>CustomerNameNew</th>\n",
       "    </tr>\n",
       "  </thead>\n",
       "  <tbody>\n",
       "  </tbody>\n",
       "</table>\n",
       "</div>"
      ],
      "text/plain": [
       "Empty DataFrame\n",
       "Columns: [name, id, type, label, customerId, CustomerName, CustomerNameNew]\n",
       "Index: []"
      ]
     },
     "execution_count": 61,
     "metadata": {},
     "output_type": "execute_result"
    }
   ],
   "source": [
    "full_new[full_new[\"name\"]==\"EC62604C5C80-100\"]"
   ]
  },
  {
   "cell_type": "code",
   "execution_count": null,
   "metadata": {},
   "outputs": [
    {
     "name": "stdout",
     "output_type": "stream",
     "text": [
      "There are 0 devices that exist NOT in the old system but  in the new system.\n"
     ]
    }
   ],
   "source": [
    "print(f\"There are {full_new['CustomerNameNew'].isna().sum()} devices that exist NOT in the old system but  in the new system.\")\n"
   ]
  },
  {
   "cell_type": "code",
   "execution_count": null,
   "metadata": {},
   "outputs": [
    {
     "data": {
      "text/html": [
       "<div>\n",
       "<style scoped>\n",
       "    .dataframe tbody tr th:only-of-type {\n",
       "        vertical-align: middle;\n",
       "    }\n",
       "\n",
       "    .dataframe tbody tr th {\n",
       "        vertical-align: top;\n",
       "    }\n",
       "\n",
       "    .dataframe thead th {\n",
       "        text-align: right;\n",
       "    }\n",
       "</style>\n",
       "<table border=\"1\" class=\"dataframe\">\n",
       "  <thead>\n",
       "    <tr style=\"text-align: right;\">\n",
       "      <th></th>\n",
       "      <th>name</th>\n",
       "      <th>id</th>\n",
       "      <th>type</th>\n",
       "      <th>label</th>\n",
       "      <th>customerId</th>\n",
       "      <th>CustomerName</th>\n",
       "      <th>CustomerNameNew</th>\n",
       "    </tr>\n",
       "  </thead>\n",
       "  <tbody>\n",
       "  </tbody>\n",
       "</table>\n",
       "</div>"
      ],
      "text/plain": [
       "Empty DataFrame\n",
       "Columns: [name, id, type, label, customerId, CustomerName, CustomerNameNew]\n",
       "Index: []"
      ]
     },
     "execution_count": 57,
     "metadata": {},
     "output_type": "execute_result"
    }
   ],
   "source": [
    "full_new[full_new[\"CustomerNameNew\"].isna()]"
   ]
  },
  {
   "cell_type": "markdown",
   "metadata": {},
   "source": [
    "# Save the data"
   ]
  },
  {
   "cell_type": "code",
   "execution_count": null,
   "metadata": {},
   "outputs": [],
   "source": [
    "df_final=both_have['id']"
   ]
  },
  {
   "cell_type": "code",
   "execution_count": 18,
   "metadata": {},
   "outputs": [],
   "source": [
    "SEN5X_df.to_csv('Datasets/temp.csv',  header =True, index=True)\n"
   ]
  },
  {
   "cell_type": "code",
   "execution_count": 1,
   "metadata": {},
   "outputs": [
    {
     "name": "stdout",
     "output_type": "stream",
     "text": [
      "Device: {'id': 1}, Key: temp\n",
      "Device: {'id': 2}, Key: humidity\n",
      "Device: {'id': 3}, Key: pressure\n"
     ]
    }
   ],
   "source": [
    "device_keys = [{\"id\": 1}, {\"id\": 2}, {\"id\": 3}]\n",
    "keys_to_fetch = [\"temp\", \"humidity\", \"pressure\"]\n",
    "\n",
    "for device, key in zip(device_keys, keys_to_fetch):\n",
    "    print(f\"Device: {device}, Key: {key}\")"
   ]
  }
 ],
 "metadata": {
  "kernelspec": {
   "display_name": "Python 3",
   "language": "python",
   "name": "python3"
  },
  "language_info": {
   "codemirror_mode": {
    "name": "ipython",
    "version": 3
   },
   "file_extension": ".py",
   "mimetype": "text/x-python",
   "name": "python",
   "nbconvert_exporter": "python",
   "pygments_lexer": "ipython3",
   "version": "3.10.12"
  }
 },
 "nbformat": 4,
 "nbformat_minor": 2
}
