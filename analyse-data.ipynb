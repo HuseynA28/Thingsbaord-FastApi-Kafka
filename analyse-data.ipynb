{
 "cells": [
  {
   "cell_type": "code",
   "execution_count": 8,
   "metadata": {},
   "outputs": [],
   "source": [
    "import pandas as pd\n",
    "import json\n",
    "from pandas import json_normalize\n",
    "from os import getcwd, path\n",
    "from yaml import SafeLoader, load\n",
    "import yaml\n",
    "import jmespath\n",
    "\n",
    "import yaml\n",
    "import jmespath\n"
   ]
  },
  {
   "cell_type": "code",
   "execution_count": 9,
   "metadata": {},
   "outputs": [],
   "source": [
    "df_from_old=pd.read_csv(\"/root/main-kafka-main/DataFrame/4412d9e0-ab8c-11ec-bcd8-afb5f342d01b-20250225_113711.csv\")"
   ]
  },
  {
   "cell_type": "code",
   "execution_count": 10,
   "metadata": {},
   "outputs": [
    {
     "data": {
      "text/html": [
       "<div>\n",
       "<style scoped>\n",
       "    .dataframe tbody tr th:only-of-type {\n",
       "        vertical-align: middle;\n",
       "    }\n",
       "\n",
       "    .dataframe tbody tr th {\n",
       "        vertical-align: top;\n",
       "    }\n",
       "\n",
       "    .dataframe thead th {\n",
       "        text-align: right;\n",
       "    }\n",
       "</style>\n",
       "<table border=\"1\" class=\"dataframe\">\n",
       "  <thead>\n",
       "    <tr style=\"text-align: right;\">\n",
       "      <th></th>\n",
       "      <th>name</th>\n",
       "      <th>id</th>\n",
       "      <th>type</th>\n",
       "      <th>label</th>\n",
       "      <th>customerId</th>\n",
       "      <th>CustomerName</th>\n",
       "    </tr>\n",
       "  </thead>\n",
       "  <tbody>\n",
       "    <tr>\n",
       "      <th>0</th>\n",
       "      <td>GKC-A848FA86D8E4-002</td>\n",
       "      <td>0571c980-270f-11ee-bc9b-1d7b9ef08863</td>\n",
       "      <td>Modbus V6 Fan</td>\n",
       "      <td>AB-08 Venti 4</td>\n",
       "      <td>4412d9e0-ab8c-11ec-bcd8-afb5f342d01b</td>\n",
       "      <td>Daume</td>\n",
       "    </tr>\n",
       "    <tr>\n",
       "      <th>1</th>\n",
       "      <td>GKC-A848FA87769C-021</td>\n",
       "      <td>074033d0-92c7-11ef-bb66-09a77fdcecde</td>\n",
       "      <td>Thermokon</td>\n",
       "      <td>NaN</td>\n",
       "      <td>4412d9e0-ab8c-11ec-bcd8-afb5f342d01b</td>\n",
       "      <td>Daume</td>\n",
       "    </tr>\n",
       "    <tr>\n",
       "      <th>2</th>\n",
       "      <td>GKC-A848FA86D8E4-003</td>\n",
       "      <td>0c7067f0-270f-11ee-bc9b-1d7b9ef08863</td>\n",
       "      <td>Modbus V6 Fan</td>\n",
       "      <td>AB-08 Venti 3</td>\n",
       "      <td>4412d9e0-ab8c-11ec-bcd8-afb5f342d01b</td>\n",
       "      <td>Daume</td>\n",
       "    </tr>\n",
       "    <tr>\n",
       "      <th>3</th>\n",
       "      <td>GKC-A848FA870B50-013</td>\n",
       "      <td>0d876b50-2711-11ee-927a-b9de331472ce</td>\n",
       "      <td>Modbus V6 Fan</td>\n",
       "      <td>ZU-10 Venti 1</td>\n",
       "      <td>4412d9e0-ab8c-11ec-bcd8-afb5f342d01b</td>\n",
       "      <td>Daume</td>\n",
       "    </tr>\n",
       "    <tr>\n",
       "      <th>4</th>\n",
       "      <td>GKC-A848FA86D8E4-004</td>\n",
       "      <td>16a5ee70-270f-11ee-927a-b9de331472ce</td>\n",
       "      <td>Modbus V6 Fan</td>\n",
       "      <td>AB-08 Venti 2</td>\n",
       "      <td>4412d9e0-ab8c-11ec-bcd8-afb5f342d01b</td>\n",
       "      <td>Daume</td>\n",
       "    </tr>\n",
       "  </tbody>\n",
       "</table>\n",
       "</div>"
      ],
      "text/plain": [
       "                   name                                    id           type  \\\n",
       "0  GKC-A848FA86D8E4-002  0571c980-270f-11ee-bc9b-1d7b9ef08863  Modbus V6 Fan   \n",
       "1  GKC-A848FA87769C-021  074033d0-92c7-11ef-bb66-09a77fdcecde      Thermokon   \n",
       "2  GKC-A848FA86D8E4-003  0c7067f0-270f-11ee-bc9b-1d7b9ef08863  Modbus V6 Fan   \n",
       "3  GKC-A848FA870B50-013  0d876b50-2711-11ee-927a-b9de331472ce  Modbus V6 Fan   \n",
       "4  GKC-A848FA86D8E4-004  16a5ee70-270f-11ee-927a-b9de331472ce  Modbus V6 Fan   \n",
       "\n",
       "           label                            customerId CustomerName  \n",
       "0  AB-08 Venti 4  4412d9e0-ab8c-11ec-bcd8-afb5f342d01b        Daume  \n",
       "1            NaN  4412d9e0-ab8c-11ec-bcd8-afb5f342d01b        Daume  \n",
       "2  AB-08 Venti 3  4412d9e0-ab8c-11ec-bcd8-afb5f342d01b        Daume  \n",
       "3  ZU-10 Venti 1  4412d9e0-ab8c-11ec-bcd8-afb5f342d01b        Daume  \n",
       "4  AB-08 Venti 2  4412d9e0-ab8c-11ec-bcd8-afb5f342d01b        Daume  "
      ]
     },
     "execution_count": 10,
     "metadata": {},
     "output_type": "execute_result"
    }
   ],
   "source": [
    "df_from_old.head()"
   ]
  },
  {
   "cell_type": "code",
   "execution_count": 11,
   "metadata": {},
   "outputs": [
    {
     "data": {
      "text/plain": [
       "CustomerName\n",
       "Daume    65\n",
       "Name: count, dtype: int64"
      ]
     },
     "execution_count": 11,
     "metadata": {},
     "output_type": "execute_result"
    }
   ],
   "source": [
    "df_from_old[\"CustomerName\"].value_counts()"
   ]
  },
  {
   "cell_type": "code",
   "execution_count": 36,
   "metadata": {},
   "outputs": [
    {
     "data": {
      "text/plain": [
       "name             0\n",
       "id               0\n",
       "type             0\n",
       "label           15\n",
       "customerId       0\n",
       "CustomerName     0\n",
       "dtype: int64"
      ]
     },
     "execution_count": 36,
     "metadata": {},
     "output_type": "execute_result"
    }
   ],
   "source": [
    "df_from_old.isna().sum()"
   ]
  },
  {
   "cell_type": "markdown",
   "metadata": {},
   "source": [
    "#  Getting value from JAML  file"
   ]
  },
  {
   "cell_type": "code",
   "execution_count": 13,
   "metadata": {},
   "outputs": [],
   "source": [
    "data=\"/root/main-kafka-main/Emb-yaml/epStructure2.yaml\"\n",
    "device_names_list=[]\n",
    "with open(data, \"r\") as file:\n",
    "    yaml_content = yaml.safe_load(file)\n",
    "    projects=yaml_content[\"projects\"]\n",
    "    for project in projects:\n",
    "        costomer=project[\"customer\"]\n",
    "        device_names = jmespath.search(\"sites[*].locations[*].systems[*].devices[*].name\", project) \n",
    "        device_names_list.append(device_names)"
   ]
  },
  {
   "cell_type": "code",
   "execution_count": 14,
   "metadata": {},
   "outputs": [],
   "source": [
    "\n",
    "customer_devices = {} \n",
    "with open(data, \"r\") as file:\n",
    "    yaml_content = yaml.safe_load(file)\n",
    "    projects = yaml_content[\"projects\"]\n",
    "    for project in projects:\n",
    "        customer = project[\"customer\"]\n",
    "        if customer not in customer_devices:\n",
    "            customer_devices[customer] = []\n",
    "        device_names_result = jmespath.search(\"sites[*].locations[*].systems[*].devices[*].name\", project)\n",
    "        for level1 in device_names_result:\n",
    "            for level2 in level1:\n",
    "                for level3 in level2:\n",
    "                    for name in level3:\n",
    "                        if name is not None:\n",
    "                            customer_devices[customer].append(name)\n",
    "        "
   ]
  },
  {
   "cell_type": "code",
   "execution_count": 15,
   "metadata": {},
   "outputs": [],
   "source": [
    "devices_df = pd.DataFrame(customer_devices)\n"
   ]
  },
  {
   "cell_type": "code",
   "execution_count": 16,
   "metadata": {},
   "outputs": [],
   "source": [
    "devices_df=pd.melt(devices_df,value_vars=['HaustechnikRCP']).rename(columns={\"variable\":\"CustomerNameNew\", \"value\":\"name\"})"
   ]
  },
  {
   "cell_type": "code",
   "execution_count": 17,
   "metadata": {},
   "outputs": [
    {
     "data": {
      "text/html": [
       "<div>\n",
       "<style scoped>\n",
       "    .dataframe tbody tr th:only-of-type {\n",
       "        vertical-align: middle;\n",
       "    }\n",
       "\n",
       "    .dataframe tbody tr th {\n",
       "        vertical-align: top;\n",
       "    }\n",
       "\n",
       "    .dataframe thead th {\n",
       "        text-align: right;\n",
       "    }\n",
       "</style>\n",
       "<table border=\"1\" class=\"dataframe\">\n",
       "  <thead>\n",
       "    <tr style=\"text-align: right;\">\n",
       "      <th></th>\n",
       "      <th>CustomerNameNew</th>\n",
       "      <th>name</th>\n",
       "    </tr>\n",
       "  </thead>\n",
       "  <tbody>\n",
       "    <tr>\n",
       "      <th>0</th>\n",
       "      <td>HaustechnikRCP</td>\n",
       "      <td>GKC-A848FA86D8E4-002</td>\n",
       "    </tr>\n",
       "    <tr>\n",
       "      <th>1</th>\n",
       "      <td>HaustechnikRCP</td>\n",
       "      <td>GKC-A848FA86D8E4-003</td>\n",
       "    </tr>\n",
       "    <tr>\n",
       "      <th>2</th>\n",
       "      <td>HaustechnikRCP</td>\n",
       "      <td>GKC-A848FA86D8E4-004</td>\n",
       "    </tr>\n",
       "    <tr>\n",
       "      <th>3</th>\n",
       "      <td>HaustechnikRCP</td>\n",
       "      <td>GKC-A848FA86D8E4-005</td>\n",
       "    </tr>\n",
       "    <tr>\n",
       "      <th>4</th>\n",
       "      <td>HaustechnikRCP</td>\n",
       "      <td>GKC-A848FA86D8E4-016</td>\n",
       "    </tr>\n",
       "  </tbody>\n",
       "</table>\n",
       "</div>"
      ],
      "text/plain": [
       "  CustomerNameNew                  name\n",
       "0  HaustechnikRCP  GKC-A848FA86D8E4-002\n",
       "1  HaustechnikRCP  GKC-A848FA86D8E4-003\n",
       "2  HaustechnikRCP  GKC-A848FA86D8E4-004\n",
       "3  HaustechnikRCP  GKC-A848FA86D8E4-005\n",
       "4  HaustechnikRCP  GKC-A848FA86D8E4-016"
      ]
     },
     "execution_count": 17,
     "metadata": {},
     "output_type": "execute_result"
    }
   ],
   "source": [
    "devices_df.head()"
   ]
  },
  {
   "cell_type": "code",
   "execution_count": 37,
   "metadata": {},
   "outputs": [
    {
     "data": {
      "text/plain": [
       "CustomerNameNew    0\n",
       "name               0\n",
       "dtype: int64"
      ]
     },
     "execution_count": 37,
     "metadata": {},
     "output_type": "execute_result"
    }
   ],
   "source": [
    "devices_df.isna().sum()"
   ]
  },
  {
   "cell_type": "code",
   "execution_count": 18,
   "metadata": {},
   "outputs": [
    {
     "data": {
      "text/plain": [
       "(39, 2)"
      ]
     },
     "execution_count": 18,
     "metadata": {},
     "output_type": "execute_result"
    }
   ],
   "source": [
    "devices_df.shape"
   ]
  },
  {
   "cell_type": "code",
   "execution_count": 19,
   "metadata": {},
   "outputs": [
    {
     "data": {
      "text/plain": [
       "(65, 6)"
      ]
     },
     "execution_count": 19,
     "metadata": {},
     "output_type": "execute_result"
    }
   ],
   "source": [
    "df_from_old.shape"
   ]
  },
  {
   "cell_type": "code",
   "execution_count": 20,
   "metadata": {},
   "outputs": [],
   "source": [
    "df_from_old[\"name\"] = df_from_old[\"name\"].astype(str)\n",
    "devices_df[\"name\"] = devices_df[\"name\"].astype(str)"
   ]
  },
  {
   "cell_type": "code",
   "execution_count": 21,
   "metadata": {},
   "outputs": [],
   "source": [
    "\n",
    "both_have = df_from_old.join(devices_df.set_index(\"name\"), on=\"name\", how=\"inner\")"
   ]
  },
  {
   "cell_type": "code",
   "execution_count": 22,
   "metadata": {},
   "outputs": [
    {
     "data": {
      "text/html": [
       "<div>\n",
       "<style scoped>\n",
       "    .dataframe tbody tr th:only-of-type {\n",
       "        vertical-align: middle;\n",
       "    }\n",
       "\n",
       "    .dataframe tbody tr th {\n",
       "        vertical-align: top;\n",
       "    }\n",
       "\n",
       "    .dataframe thead th {\n",
       "        text-align: right;\n",
       "    }\n",
       "</style>\n",
       "<table border=\"1\" class=\"dataframe\">\n",
       "  <thead>\n",
       "    <tr style=\"text-align: right;\">\n",
       "      <th></th>\n",
       "      <th>name</th>\n",
       "      <th>id</th>\n",
       "      <th>type</th>\n",
       "      <th>label</th>\n",
       "      <th>customerId</th>\n",
       "      <th>CustomerName</th>\n",
       "      <th>CustomerNameNew</th>\n",
       "    </tr>\n",
       "  </thead>\n",
       "  <tbody>\n",
       "    <tr>\n",
       "      <th>0</th>\n",
       "      <td>GKC-A848FA86D8E4-002</td>\n",
       "      <td>0571c980-270f-11ee-bc9b-1d7b9ef08863</td>\n",
       "      <td>Modbus V6 Fan</td>\n",
       "      <td>AB-08 Venti 4</td>\n",
       "      <td>4412d9e0-ab8c-11ec-bcd8-afb5f342d01b</td>\n",
       "      <td>Daume</td>\n",
       "      <td>HaustechnikRCP</td>\n",
       "    </tr>\n",
       "    <tr>\n",
       "      <th>2</th>\n",
       "      <td>GKC-A848FA86D8E4-003</td>\n",
       "      <td>0c7067f0-270f-11ee-bc9b-1d7b9ef08863</td>\n",
       "      <td>Modbus V6 Fan</td>\n",
       "      <td>AB-08 Venti 3</td>\n",
       "      <td>4412d9e0-ab8c-11ec-bcd8-afb5f342d01b</td>\n",
       "      <td>Daume</td>\n",
       "      <td>HaustechnikRCP</td>\n",
       "    </tr>\n",
       "    <tr>\n",
       "      <th>3</th>\n",
       "      <td>GKC-A848FA870B50-013</td>\n",
       "      <td>0d876b50-2711-11ee-927a-b9de331472ce</td>\n",
       "      <td>Modbus V6 Fan</td>\n",
       "      <td>ZU-10 Venti 1</td>\n",
       "      <td>4412d9e0-ab8c-11ec-bcd8-afb5f342d01b</td>\n",
       "      <td>Daume</td>\n",
       "      <td>HaustechnikRCP</td>\n",
       "    </tr>\n",
       "    <tr>\n",
       "      <th>4</th>\n",
       "      <td>GKC-A848FA86D8E4-004</td>\n",
       "      <td>16a5ee70-270f-11ee-927a-b9de331472ce</td>\n",
       "      <td>Modbus V6 Fan</td>\n",
       "      <td>AB-08 Venti 2</td>\n",
       "      <td>4412d9e0-ab8c-11ec-bcd8-afb5f342d01b</td>\n",
       "      <td>Daume</td>\n",
       "      <td>HaustechnikRCP</td>\n",
       "    </tr>\n",
       "    <tr>\n",
       "      <th>8</th>\n",
       "      <td>GKC-A848FA870B50-002</td>\n",
       "      <td>25327d90-2710-11ee-927a-b9de331472ce</td>\n",
       "      <td>Modbus V6 Fan</td>\n",
       "      <td>AB-10 Venti 8</td>\n",
       "      <td>4412d9e0-ab8c-11ec-bcd8-afb5f342d01b</td>\n",
       "      <td>Daume</td>\n",
       "      <td>HaustechnikRCP</td>\n",
       "    </tr>\n",
       "  </tbody>\n",
       "</table>\n",
       "</div>"
      ],
      "text/plain": [
       "                   name                                    id           type  \\\n",
       "0  GKC-A848FA86D8E4-002  0571c980-270f-11ee-bc9b-1d7b9ef08863  Modbus V6 Fan   \n",
       "2  GKC-A848FA86D8E4-003  0c7067f0-270f-11ee-bc9b-1d7b9ef08863  Modbus V6 Fan   \n",
       "3  GKC-A848FA870B50-013  0d876b50-2711-11ee-927a-b9de331472ce  Modbus V6 Fan   \n",
       "4  GKC-A848FA86D8E4-004  16a5ee70-270f-11ee-927a-b9de331472ce  Modbus V6 Fan   \n",
       "8  GKC-A848FA870B50-002  25327d90-2710-11ee-927a-b9de331472ce  Modbus V6 Fan   \n",
       "\n",
       "           label                            customerId CustomerName  \\\n",
       "0  AB-08 Venti 4  4412d9e0-ab8c-11ec-bcd8-afb5f342d01b        Daume   \n",
       "2  AB-08 Venti 3  4412d9e0-ab8c-11ec-bcd8-afb5f342d01b        Daume   \n",
       "3  ZU-10 Venti 1  4412d9e0-ab8c-11ec-bcd8-afb5f342d01b        Daume   \n",
       "4  AB-08 Venti 2  4412d9e0-ab8c-11ec-bcd8-afb5f342d01b        Daume   \n",
       "8  AB-10 Venti 8  4412d9e0-ab8c-11ec-bcd8-afb5f342d01b        Daume   \n",
       "\n",
       "  CustomerNameNew  \n",
       "0  HaustechnikRCP  \n",
       "2  HaustechnikRCP  \n",
       "3  HaustechnikRCP  \n",
       "4  HaustechnikRCP  \n",
       "8  HaustechnikRCP  "
      ]
     },
     "execution_count": 22,
     "metadata": {},
     "output_type": "execute_result"
    }
   ],
   "source": [
    "both_have.head()"
   ]
  },
  {
   "cell_type": "code",
   "execution_count": 23,
   "metadata": {},
   "outputs": [
    {
     "data": {
      "text/plain": [
       "(39, 7)"
      ]
     },
     "execution_count": 23,
     "metadata": {},
     "output_type": "execute_result"
    }
   ],
   "source": [
    "both_have.shape"
   ]
  },
  {
   "cell_type": "markdown",
   "metadata": {},
   "source": [
    "# Devices that exist in the old system but not in the new system\n"
   ]
  },
  {
   "cell_type": "code",
   "execution_count": 24,
   "metadata": {},
   "outputs": [],
   "source": [
    "full_old= df_from_old.join(devices_df.set_index(\"name\"), on=\"name\", how=\"left\")"
   ]
  },
  {
   "cell_type": "code",
   "execution_count": 25,
   "metadata": {},
   "outputs": [
    {
     "data": {
      "text/html": [
       "<div>\n",
       "<style scoped>\n",
       "    .dataframe tbody tr th:only-of-type {\n",
       "        vertical-align: middle;\n",
       "    }\n",
       "\n",
       "    .dataframe tbody tr th {\n",
       "        vertical-align: top;\n",
       "    }\n",
       "\n",
       "    .dataframe thead th {\n",
       "        text-align: right;\n",
       "    }\n",
       "</style>\n",
       "<table border=\"1\" class=\"dataframe\">\n",
       "  <thead>\n",
       "    <tr style=\"text-align: right;\">\n",
       "      <th></th>\n",
       "      <th>name</th>\n",
       "      <th>id</th>\n",
       "      <th>type</th>\n",
       "      <th>label</th>\n",
       "      <th>customerId</th>\n",
       "      <th>CustomerName</th>\n",
       "      <th>CustomerNameNew</th>\n",
       "    </tr>\n",
       "  </thead>\n",
       "  <tbody>\n",
       "    <tr>\n",
       "      <th>0</th>\n",
       "      <td>GKC-A848FA86D8E4-002</td>\n",
       "      <td>0571c980-270f-11ee-bc9b-1d7b9ef08863</td>\n",
       "      <td>Modbus V6 Fan</td>\n",
       "      <td>AB-08 Venti 4</td>\n",
       "      <td>4412d9e0-ab8c-11ec-bcd8-afb5f342d01b</td>\n",
       "      <td>Daume</td>\n",
       "      <td>HaustechnikRCP</td>\n",
       "    </tr>\n",
       "    <tr>\n",
       "      <th>1</th>\n",
       "      <td>GKC-A848FA87769C-021</td>\n",
       "      <td>074033d0-92c7-11ef-bb66-09a77fdcecde</td>\n",
       "      <td>Thermokon</td>\n",
       "      <td>NaN</td>\n",
       "      <td>4412d9e0-ab8c-11ec-bcd8-afb5f342d01b</td>\n",
       "      <td>Daume</td>\n",
       "      <td>NaN</td>\n",
       "    </tr>\n",
       "    <tr>\n",
       "      <th>2</th>\n",
       "      <td>GKC-A848FA86D8E4-003</td>\n",
       "      <td>0c7067f0-270f-11ee-bc9b-1d7b9ef08863</td>\n",
       "      <td>Modbus V6 Fan</td>\n",
       "      <td>AB-08 Venti 3</td>\n",
       "      <td>4412d9e0-ab8c-11ec-bcd8-afb5f342d01b</td>\n",
       "      <td>Daume</td>\n",
       "      <td>HaustechnikRCP</td>\n",
       "    </tr>\n",
       "    <tr>\n",
       "      <th>3</th>\n",
       "      <td>GKC-A848FA870B50-013</td>\n",
       "      <td>0d876b50-2711-11ee-927a-b9de331472ce</td>\n",
       "      <td>Modbus V6 Fan</td>\n",
       "      <td>ZU-10 Venti 1</td>\n",
       "      <td>4412d9e0-ab8c-11ec-bcd8-afb5f342d01b</td>\n",
       "      <td>Daume</td>\n",
       "      <td>HaustechnikRCP</td>\n",
       "    </tr>\n",
       "    <tr>\n",
       "      <th>4</th>\n",
       "      <td>GKC-A848FA86D8E4-004</td>\n",
       "      <td>16a5ee70-270f-11ee-927a-b9de331472ce</td>\n",
       "      <td>Modbus V6 Fan</td>\n",
       "      <td>AB-08 Venti 2</td>\n",
       "      <td>4412d9e0-ab8c-11ec-bcd8-afb5f342d01b</td>\n",
       "      <td>Daume</td>\n",
       "      <td>HaustechnikRCP</td>\n",
       "    </tr>\n",
       "  </tbody>\n",
       "</table>\n",
       "</div>"
      ],
      "text/plain": [
       "                   name                                    id           type  \\\n",
       "0  GKC-A848FA86D8E4-002  0571c980-270f-11ee-bc9b-1d7b9ef08863  Modbus V6 Fan   \n",
       "1  GKC-A848FA87769C-021  074033d0-92c7-11ef-bb66-09a77fdcecde      Thermokon   \n",
       "2  GKC-A848FA86D8E4-003  0c7067f0-270f-11ee-bc9b-1d7b9ef08863  Modbus V6 Fan   \n",
       "3  GKC-A848FA870B50-013  0d876b50-2711-11ee-927a-b9de331472ce  Modbus V6 Fan   \n",
       "4  GKC-A848FA86D8E4-004  16a5ee70-270f-11ee-927a-b9de331472ce  Modbus V6 Fan   \n",
       "\n",
       "           label                            customerId CustomerName  \\\n",
       "0  AB-08 Venti 4  4412d9e0-ab8c-11ec-bcd8-afb5f342d01b        Daume   \n",
       "1            NaN  4412d9e0-ab8c-11ec-bcd8-afb5f342d01b        Daume   \n",
       "2  AB-08 Venti 3  4412d9e0-ab8c-11ec-bcd8-afb5f342d01b        Daume   \n",
       "3  ZU-10 Venti 1  4412d9e0-ab8c-11ec-bcd8-afb5f342d01b        Daume   \n",
       "4  AB-08 Venti 2  4412d9e0-ab8c-11ec-bcd8-afb5f342d01b        Daume   \n",
       "\n",
       "  CustomerNameNew  \n",
       "0  HaustechnikRCP  \n",
       "1             NaN  \n",
       "2  HaustechnikRCP  \n",
       "3  HaustechnikRCP  \n",
       "4  HaustechnikRCP  "
      ]
     },
     "execution_count": 25,
     "metadata": {},
     "output_type": "execute_result"
    }
   ],
   "source": [
    "full_old.head()"
   ]
  },
  {
   "cell_type": "code",
   "execution_count": 26,
   "metadata": {},
   "outputs": [
    {
     "name": "stdout",
     "output_type": "stream",
     "text": [
      "There are 26 devices that exist in the old system but not in the new system.\n"
     ]
    }
   ],
   "source": [
    "print(f\"There are {full_old['CustomerNameNew'].isna().sum()} devices that exist in the old system but not in the new system.\")\n"
   ]
  },
  {
   "cell_type": "code",
   "execution_count": 27,
   "metadata": {},
   "outputs": [
    {
     "data": {
      "text/plain": [
       "np.int64(26)"
      ]
     },
     "execution_count": 27,
     "metadata": {},
     "output_type": "execute_result"
    }
   ],
   "source": [
    "full_old[\"CustomerNameNew\"].isna().sum()"
   ]
  },
  {
   "cell_type": "code",
   "execution_count": 28,
   "metadata": {},
   "outputs": [
    {
     "data": {
      "text/html": [
       "<div>\n",
       "<style scoped>\n",
       "    .dataframe tbody tr th:only-of-type {\n",
       "        vertical-align: middle;\n",
       "    }\n",
       "\n",
       "    .dataframe tbody tr th {\n",
       "        vertical-align: top;\n",
       "    }\n",
       "\n",
       "    .dataframe thead th {\n",
       "        text-align: right;\n",
       "    }\n",
       "</style>\n",
       "<table border=\"1\" class=\"dataframe\">\n",
       "  <thead>\n",
       "    <tr style=\"text-align: right;\">\n",
       "      <th></th>\n",
       "      <th>name</th>\n",
       "      <th>id</th>\n",
       "      <th>type</th>\n",
       "      <th>label</th>\n",
       "      <th>customerId</th>\n",
       "      <th>CustomerName</th>\n",
       "      <th>CustomerNameNew</th>\n",
       "    </tr>\n",
       "  </thead>\n",
       "  <tbody>\n",
       "    <tr>\n",
       "      <th>1</th>\n",
       "      <td>GKC-A848FA87769C-021</td>\n",
       "      <td>074033d0-92c7-11ef-bb66-09a77fdcecde</td>\n",
       "      <td>Thermokon</td>\n",
       "      <td>NaN</td>\n",
       "      <td>4412d9e0-ab8c-11ec-bcd8-afb5f342d01b</td>\n",
       "      <td>Daume</td>\n",
       "      <td>NaN</td>\n",
       "    </tr>\n",
       "    <tr>\n",
       "      <th>5</th>\n",
       "      <td>GKC-A848FA87769C-012</td>\n",
       "      <td>1c44db00-92c2-11ef-b675-81d50ee23e1f</td>\n",
       "      <td>Modbus V6 Fan</td>\n",
       "      <td>ZU-15 Venti 3</td>\n",
       "      <td>4412d9e0-ab8c-11ec-bcd8-afb5f342d01b</td>\n",
       "      <td>Daume</td>\n",
       "      <td>NaN</td>\n",
       "    </tr>\n",
       "    <tr>\n",
       "      <th>6</th>\n",
       "      <td>GKC-A848FA87769C-011</td>\n",
       "      <td>1c4e9f00-92c2-11ef-b675-81d50ee23e1f</td>\n",
       "      <td>Modbus V6 Fan</td>\n",
       "      <td>ZU-15 Venti 2</td>\n",
       "      <td>4412d9e0-ab8c-11ec-bcd8-afb5f342d01b</td>\n",
       "      <td>Daume</td>\n",
       "      <td>NaN</td>\n",
       "    </tr>\n",
       "    <tr>\n",
       "      <th>7</th>\n",
       "      <td>GKC-A848FA87769C-010</td>\n",
       "      <td>1c566730-92c2-11ef-b675-81d50ee23e1f</td>\n",
       "      <td>Modbus V6 Fan</td>\n",
       "      <td>ZU-15 Venti 1</td>\n",
       "      <td>4412d9e0-ab8c-11ec-bcd8-afb5f342d01b</td>\n",
       "      <td>Daume</td>\n",
       "      <td>NaN</td>\n",
       "    </tr>\n",
       "    <tr>\n",
       "      <th>10</th>\n",
       "      <td>GKC-A848FA86C458</td>\n",
       "      <td>2906b580-4af2-11ed-9a85-43b5866161ae</td>\n",
       "      <td>IntelliGateAIR</td>\n",
       "      <td>NaN</td>\n",
       "      <td>4412d9e0-ab8c-11ec-bcd8-afb5f342d01b</td>\n",
       "      <td>Daume</td>\n",
       "      <td>NaN</td>\n",
       "    </tr>\n",
       "    <tr>\n",
       "      <th>12</th>\n",
       "      <td>GKC-A848FA880220</td>\n",
       "      <td>32ccc230-8beb-11ef-bb66-09a77fdcecde</td>\n",
       "      <td>IntelliGateAIR</td>\n",
       "      <td>NaN</td>\n",
       "      <td>4412d9e0-ab8c-11ec-bcd8-afb5f342d01b</td>\n",
       "      <td>Daume</td>\n",
       "      <td>NaN</td>\n",
       "    </tr>\n",
       "    <tr>\n",
       "      <th>13</th>\n",
       "      <td>GKC-A848FA8784F4</td>\n",
       "      <td>33724420-9afe-11ec-bcd8-afb5f342d01b</td>\n",
       "      <td>IntelliGateAIR</td>\n",
       "      <td>NaN</td>\n",
       "      <td>4412d9e0-ab8c-11ec-bcd8-afb5f342d01b</td>\n",
       "      <td>Daume</td>\n",
       "      <td>NaN</td>\n",
       "    </tr>\n",
       "    <tr>\n",
       "      <th>15</th>\n",
       "      <td>GKC-A848FA87769C-002</td>\n",
       "      <td>3c247f30-92b7-11ef-bb66-09a77fdcecde</td>\n",
       "      <td>Modbus V6 Fan</td>\n",
       "      <td>AB-15 Venti 1</td>\n",
       "      <td>4412d9e0-ab8c-11ec-bcd8-afb5f342d01b</td>\n",
       "      <td>Daume</td>\n",
       "      <td>NaN</td>\n",
       "    </tr>\n",
       "    <tr>\n",
       "      <th>24</th>\n",
       "      <td>GKC-A848FA870B50</td>\n",
       "      <td>3d3d4ac0-0c2e-11ee-a50f-b5cb373dcb6a</td>\n",
       "      <td>IntelliGateAIR</td>\n",
       "      <td>NaN</td>\n",
       "      <td>4412d9e0-ab8c-11ec-bcd8-afb5f342d01b</td>\n",
       "      <td>Daume</td>\n",
       "      <td>NaN</td>\n",
       "    </tr>\n",
       "    <tr>\n",
       "      <th>26</th>\n",
       "      <td>GKC-A848FA87769C-003</td>\n",
       "      <td>4010ad80-92b7-11ef-bb66-09a77fdcecde</td>\n",
       "      <td>Modbus V6 Fan</td>\n",
       "      <td>AB-15 Venti 2</td>\n",
       "      <td>4412d9e0-ab8c-11ec-bcd8-afb5f342d01b</td>\n",
       "      <td>Daume</td>\n",
       "      <td>NaN</td>\n",
       "    </tr>\n",
       "    <tr>\n",
       "      <th>27</th>\n",
       "      <td>GKC-A848FA87769C-022</td>\n",
       "      <td>406d5930-92c7-11ef-bb66-09a77fdcecde</td>\n",
       "      <td>Thermokon</td>\n",
       "      <td>NaN</td>\n",
       "      <td>4412d9e0-ab8c-11ec-bcd8-afb5f342d01b</td>\n",
       "      <td>Daume</td>\n",
       "      <td>NaN</td>\n",
       "    </tr>\n",
       "    <tr>\n",
       "      <th>28</th>\n",
       "      <td>GKC-A848FA87769C-004</td>\n",
       "      <td>4435c620-92b7-11ef-bb66-09a77fdcecde</td>\n",
       "      <td>Modbus V6 Fan</td>\n",
       "      <td>AB-15 Venti 3</td>\n",
       "      <td>4412d9e0-ab8c-11ec-bcd8-afb5f342d01b</td>\n",
       "      <td>Daume</td>\n",
       "      <td>NaN</td>\n",
       "    </tr>\n",
       "    <tr>\n",
       "      <th>30</th>\n",
       "      <td>GKC-A848FA87769C-005</td>\n",
       "      <td>48b66c40-92b7-11ef-bb66-09a77fdcecde</td>\n",
       "      <td>Modbus V6 Fan</td>\n",
       "      <td>AB-15 Venti 4</td>\n",
       "      <td>4412d9e0-ab8c-11ec-bcd8-afb5f342d01b</td>\n",
       "      <td>Daume</td>\n",
       "      <td>NaN</td>\n",
       "    </tr>\n",
       "    <tr>\n",
       "      <th>31</th>\n",
       "      <td>GKC-A848FA87769C-006</td>\n",
       "      <td>4d30f7e0-92b7-11ef-bb66-09a77fdcecde</td>\n",
       "      <td>Modbus V6 Fan</td>\n",
       "      <td>AB-15 Venti 5</td>\n",
       "      <td>4412d9e0-ab8c-11ec-bcd8-afb5f342d01b</td>\n",
       "      <td>Daume</td>\n",
       "      <td>NaN</td>\n",
       "    </tr>\n",
       "    <tr>\n",
       "      <th>32</th>\n",
       "      <td>GKC-A848FA87769C-007</td>\n",
       "      <td>507f5f90-92b7-11ef-bb66-09a77fdcecde</td>\n",
       "      <td>Modbus V6 Fan</td>\n",
       "      <td>AB-15 Venti 6</td>\n",
       "      <td>4412d9e0-ab8c-11ec-bcd8-afb5f342d01b</td>\n",
       "      <td>Daume</td>\n",
       "      <td>NaN</td>\n",
       "    </tr>\n",
       "    <tr>\n",
       "      <th>35</th>\n",
       "      <td>GKC-A848FA87769C-008</td>\n",
       "      <td>57aa8c40-92b7-11ef-bb66-09a77fdcecde</td>\n",
       "      <td>Modbus V6 Fan</td>\n",
       "      <td>AB-15 Venti 7</td>\n",
       "      <td>4412d9e0-ab8c-11ec-bcd8-afb5f342d01b</td>\n",
       "      <td>Daume</td>\n",
       "      <td>NaN</td>\n",
       "    </tr>\n",
       "    <tr>\n",
       "      <th>36</th>\n",
       "      <td>GKC-A848FA87769C-009</td>\n",
       "      <td>5b40ab50-92b7-11ef-bb66-09a77fdcecde</td>\n",
       "      <td>Modbus V6 Fan</td>\n",
       "      <td>AB-15 Venti 8</td>\n",
       "      <td>4412d9e0-ab8c-11ec-bcd8-afb5f342d01b</td>\n",
       "      <td>Daume</td>\n",
       "      <td>NaN</td>\n",
       "    </tr>\n",
       "    <tr>\n",
       "      <th>39</th>\n",
       "      <td>GKC-A848FA86C458-016</td>\n",
       "      <td>6f7bd4b0-4af6-11ed-9a85-43b5866161ae</td>\n",
       "      <td>Thermokon</td>\n",
       "      <td>NaN</td>\n",
       "      <td>4412d9e0-ab8c-11ec-bcd8-afb5f342d01b</td>\n",
       "      <td>Daume</td>\n",
       "      <td>NaN</td>\n",
       "    </tr>\n",
       "    <tr>\n",
       "      <th>43</th>\n",
       "      <td>GKC-A848FA87769C-013</td>\n",
       "      <td>70d01640-92c6-11ef-bb66-09a77fdcecde</td>\n",
       "      <td>Modbus V6 Fan</td>\n",
       "      <td>ZU-15 Venti 4</td>\n",
       "      <td>4412d9e0-ab8c-11ec-bcd8-afb5f342d01b</td>\n",
       "      <td>Daume</td>\n",
       "      <td>NaN</td>\n",
       "    </tr>\n",
       "    <tr>\n",
       "      <th>45</th>\n",
       "      <td>GKC-A848FA86D8E4</td>\n",
       "      <td>8a60d280-219c-11ee-927a-b9de331472ce</td>\n",
       "      <td>IntelliGateAIR</td>\n",
       "      <td>NaN</td>\n",
       "      <td>4412d9e0-ab8c-11ec-bcd8-afb5f342d01b</td>\n",
       "      <td>Daume</td>\n",
       "      <td>NaN</td>\n",
       "    </tr>\n",
       "    <tr>\n",
       "      <th>49</th>\n",
       "      <td>GKC-A848FA8784F4-016</td>\n",
       "      <td>9beb17f0-a5d7-11ec-bcd8-afb5f342d01b</td>\n",
       "      <td>Thermokon</td>\n",
       "      <td>NaN</td>\n",
       "      <td>4412d9e0-ab8c-11ec-bcd8-afb5f342d01b</td>\n",
       "      <td>Daume</td>\n",
       "      <td>NaN</td>\n",
       "    </tr>\n",
       "    <tr>\n",
       "      <th>51</th>\n",
       "      <td>GKC-A848FA870B50-009</td>\n",
       "      <td>a432d9a0-2710-11ee-927a-b9de331472ce</td>\n",
       "      <td>Modbus V6 Fan</td>\n",
       "      <td>AB-10 Venti 1</td>\n",
       "      <td>4412d9e0-ab8c-11ec-bcd8-afb5f342d01b</td>\n",
       "      <td>Daume</td>\n",
       "      <td>NaN</td>\n",
       "    </tr>\n",
       "    <tr>\n",
       "      <th>52</th>\n",
       "      <td>GKC-A848FA87769C-016</td>\n",
       "      <td>aa0e79b0-92c6-11ef-bb66-09a77fdcecde</td>\n",
       "      <td>Thermokon</td>\n",
       "      <td>NaN</td>\n",
       "      <td>4412d9e0-ab8c-11ec-bcd8-afb5f342d01b</td>\n",
       "      <td>Daume</td>\n",
       "      <td>NaN</td>\n",
       "    </tr>\n",
       "    <tr>\n",
       "      <th>53</th>\n",
       "      <td>GKC-A848FA87769C-020</td>\n",
       "      <td>b13846d0-92c6-11ef-bb66-09a77fdcecde</td>\n",
       "      <td>Thermokon</td>\n",
       "      <td>NaN</td>\n",
       "      <td>4412d9e0-ab8c-11ec-bcd8-afb5f342d01b</td>\n",
       "      <td>Daume</td>\n",
       "      <td>NaN</td>\n",
       "    </tr>\n",
       "    <tr>\n",
       "      <th>56</th>\n",
       "      <td>GKC-A848FA871D08-016</td>\n",
       "      <td>bded4d00-a5d7-11ec-bcd8-afb5f342d01b</td>\n",
       "      <td>Thermokon</td>\n",
       "      <td>NaN</td>\n",
       "      <td>4412d9e0-ab8c-11ec-bcd8-afb5f342d01b</td>\n",
       "      <td>Daume</td>\n",
       "      <td>NaN</td>\n",
       "    </tr>\n",
       "    <tr>\n",
       "      <th>58</th>\n",
       "      <td>GKC-A848FA871D08</td>\n",
       "      <td>d03b60f0-8f2f-11ec-bcd8-afb5f342d01b</td>\n",
       "      <td>IntelliGateAIR</td>\n",
       "      <td>NaN</td>\n",
       "      <td>4412d9e0-ab8c-11ec-bcd8-afb5f342d01b</td>\n",
       "      <td>Daume</td>\n",
       "      <td>NaN</td>\n",
       "    </tr>\n",
       "  </tbody>\n",
       "</table>\n",
       "</div>"
      ],
      "text/plain": [
       "                    name                                    id  \\\n",
       "1   GKC-A848FA87769C-021  074033d0-92c7-11ef-bb66-09a77fdcecde   \n",
       "5   GKC-A848FA87769C-012  1c44db00-92c2-11ef-b675-81d50ee23e1f   \n",
       "6   GKC-A848FA87769C-011  1c4e9f00-92c2-11ef-b675-81d50ee23e1f   \n",
       "7   GKC-A848FA87769C-010  1c566730-92c2-11ef-b675-81d50ee23e1f   \n",
       "10      GKC-A848FA86C458  2906b580-4af2-11ed-9a85-43b5866161ae   \n",
       "12      GKC-A848FA880220  32ccc230-8beb-11ef-bb66-09a77fdcecde   \n",
       "13      GKC-A848FA8784F4  33724420-9afe-11ec-bcd8-afb5f342d01b   \n",
       "15  GKC-A848FA87769C-002  3c247f30-92b7-11ef-bb66-09a77fdcecde   \n",
       "24      GKC-A848FA870B50  3d3d4ac0-0c2e-11ee-a50f-b5cb373dcb6a   \n",
       "26  GKC-A848FA87769C-003  4010ad80-92b7-11ef-bb66-09a77fdcecde   \n",
       "27  GKC-A848FA87769C-022  406d5930-92c7-11ef-bb66-09a77fdcecde   \n",
       "28  GKC-A848FA87769C-004  4435c620-92b7-11ef-bb66-09a77fdcecde   \n",
       "30  GKC-A848FA87769C-005  48b66c40-92b7-11ef-bb66-09a77fdcecde   \n",
       "31  GKC-A848FA87769C-006  4d30f7e0-92b7-11ef-bb66-09a77fdcecde   \n",
       "32  GKC-A848FA87769C-007  507f5f90-92b7-11ef-bb66-09a77fdcecde   \n",
       "35  GKC-A848FA87769C-008  57aa8c40-92b7-11ef-bb66-09a77fdcecde   \n",
       "36  GKC-A848FA87769C-009  5b40ab50-92b7-11ef-bb66-09a77fdcecde   \n",
       "39  GKC-A848FA86C458-016  6f7bd4b0-4af6-11ed-9a85-43b5866161ae   \n",
       "43  GKC-A848FA87769C-013  70d01640-92c6-11ef-bb66-09a77fdcecde   \n",
       "45      GKC-A848FA86D8E4  8a60d280-219c-11ee-927a-b9de331472ce   \n",
       "49  GKC-A848FA8784F4-016  9beb17f0-a5d7-11ec-bcd8-afb5f342d01b   \n",
       "51  GKC-A848FA870B50-009  a432d9a0-2710-11ee-927a-b9de331472ce   \n",
       "52  GKC-A848FA87769C-016  aa0e79b0-92c6-11ef-bb66-09a77fdcecde   \n",
       "53  GKC-A848FA87769C-020  b13846d0-92c6-11ef-bb66-09a77fdcecde   \n",
       "56  GKC-A848FA871D08-016  bded4d00-a5d7-11ec-bcd8-afb5f342d01b   \n",
       "58      GKC-A848FA871D08  d03b60f0-8f2f-11ec-bcd8-afb5f342d01b   \n",
       "\n",
       "              type          label                            customerId  \\\n",
       "1        Thermokon            NaN  4412d9e0-ab8c-11ec-bcd8-afb5f342d01b   \n",
       "5    Modbus V6 Fan  ZU-15 Venti 3  4412d9e0-ab8c-11ec-bcd8-afb5f342d01b   \n",
       "6    Modbus V6 Fan  ZU-15 Venti 2  4412d9e0-ab8c-11ec-bcd8-afb5f342d01b   \n",
       "7    Modbus V6 Fan  ZU-15 Venti 1  4412d9e0-ab8c-11ec-bcd8-afb5f342d01b   \n",
       "10  IntelliGateAIR            NaN  4412d9e0-ab8c-11ec-bcd8-afb5f342d01b   \n",
       "12  IntelliGateAIR            NaN  4412d9e0-ab8c-11ec-bcd8-afb5f342d01b   \n",
       "13  IntelliGateAIR            NaN  4412d9e0-ab8c-11ec-bcd8-afb5f342d01b   \n",
       "15   Modbus V6 Fan  AB-15 Venti 1  4412d9e0-ab8c-11ec-bcd8-afb5f342d01b   \n",
       "24  IntelliGateAIR            NaN  4412d9e0-ab8c-11ec-bcd8-afb5f342d01b   \n",
       "26   Modbus V6 Fan  AB-15 Venti 2  4412d9e0-ab8c-11ec-bcd8-afb5f342d01b   \n",
       "27       Thermokon            NaN  4412d9e0-ab8c-11ec-bcd8-afb5f342d01b   \n",
       "28   Modbus V6 Fan  AB-15 Venti 3  4412d9e0-ab8c-11ec-bcd8-afb5f342d01b   \n",
       "30   Modbus V6 Fan  AB-15 Venti 4  4412d9e0-ab8c-11ec-bcd8-afb5f342d01b   \n",
       "31   Modbus V6 Fan  AB-15 Venti 5  4412d9e0-ab8c-11ec-bcd8-afb5f342d01b   \n",
       "32   Modbus V6 Fan  AB-15 Venti 6  4412d9e0-ab8c-11ec-bcd8-afb5f342d01b   \n",
       "35   Modbus V6 Fan  AB-15 Venti 7  4412d9e0-ab8c-11ec-bcd8-afb5f342d01b   \n",
       "36   Modbus V6 Fan  AB-15 Venti 8  4412d9e0-ab8c-11ec-bcd8-afb5f342d01b   \n",
       "39       Thermokon            NaN  4412d9e0-ab8c-11ec-bcd8-afb5f342d01b   \n",
       "43   Modbus V6 Fan  ZU-15 Venti 4  4412d9e0-ab8c-11ec-bcd8-afb5f342d01b   \n",
       "45  IntelliGateAIR            NaN  4412d9e0-ab8c-11ec-bcd8-afb5f342d01b   \n",
       "49       Thermokon            NaN  4412d9e0-ab8c-11ec-bcd8-afb5f342d01b   \n",
       "51   Modbus V6 Fan  AB-10 Venti 1  4412d9e0-ab8c-11ec-bcd8-afb5f342d01b   \n",
       "52       Thermokon            NaN  4412d9e0-ab8c-11ec-bcd8-afb5f342d01b   \n",
       "53       Thermokon            NaN  4412d9e0-ab8c-11ec-bcd8-afb5f342d01b   \n",
       "56       Thermokon            NaN  4412d9e0-ab8c-11ec-bcd8-afb5f342d01b   \n",
       "58  IntelliGateAIR            NaN  4412d9e0-ab8c-11ec-bcd8-afb5f342d01b   \n",
       "\n",
       "   CustomerName CustomerNameNew  \n",
       "1         Daume             NaN  \n",
       "5         Daume             NaN  \n",
       "6         Daume             NaN  \n",
       "7         Daume             NaN  \n",
       "10        Daume             NaN  \n",
       "12        Daume             NaN  \n",
       "13        Daume             NaN  \n",
       "15        Daume             NaN  \n",
       "24        Daume             NaN  \n",
       "26        Daume             NaN  \n",
       "27        Daume             NaN  \n",
       "28        Daume             NaN  \n",
       "30        Daume             NaN  \n",
       "31        Daume             NaN  \n",
       "32        Daume             NaN  \n",
       "35        Daume             NaN  \n",
       "36        Daume             NaN  \n",
       "39        Daume             NaN  \n",
       "43        Daume             NaN  \n",
       "45        Daume             NaN  \n",
       "49        Daume             NaN  \n",
       "51        Daume             NaN  \n",
       "52        Daume             NaN  \n",
       "53        Daume             NaN  \n",
       "56        Daume             NaN  \n",
       "58        Daume             NaN  "
      ]
     },
     "execution_count": 28,
     "metadata": {},
     "output_type": "execute_result"
    }
   ],
   "source": [
    "full_old[full_old[\"CustomerNameNew\"].isna()]"
   ]
  },
  {
   "cell_type": "markdown",
   "metadata": {},
   "source": [
    "# Devices that exist NOT in the old system but in the new system"
   ]
  },
  {
   "cell_type": "code",
   "execution_count": 29,
   "metadata": {},
   "outputs": [
    {
     "data": {
      "text/plain": [
       "(39, 7)"
      ]
     },
     "execution_count": 29,
     "metadata": {},
     "output_type": "execute_result"
    }
   ],
   "source": [
    "full_new= df_from_old.join(devices_df.set_index(\"name\"), on=\"name\", how=\"right\")\n",
    "full_new.shape"
   ]
  },
  {
   "cell_type": "code",
   "execution_count": 30,
   "metadata": {},
   "outputs": [
    {
     "data": {
      "text/html": [
       "<div>\n",
       "<style scoped>\n",
       "    .dataframe tbody tr th:only-of-type {\n",
       "        vertical-align: middle;\n",
       "    }\n",
       "\n",
       "    .dataframe tbody tr th {\n",
       "        vertical-align: top;\n",
       "    }\n",
       "\n",
       "    .dataframe thead th {\n",
       "        text-align: right;\n",
       "    }\n",
       "</style>\n",
       "<table border=\"1\" class=\"dataframe\">\n",
       "  <thead>\n",
       "    <tr style=\"text-align: right;\">\n",
       "      <th></th>\n",
       "      <th>name</th>\n",
       "      <th>id</th>\n",
       "      <th>type</th>\n",
       "      <th>label</th>\n",
       "      <th>customerId</th>\n",
       "      <th>CustomerName</th>\n",
       "      <th>CustomerNameNew</th>\n",
       "    </tr>\n",
       "  </thead>\n",
       "  <tbody>\n",
       "    <tr>\n",
       "      <th>0</th>\n",
       "      <td>GKC-A848FA86D8E4-002</td>\n",
       "      <td>0571c980-270f-11ee-bc9b-1d7b9ef08863</td>\n",
       "      <td>Modbus V6 Fan</td>\n",
       "      <td>AB-08 Venti 4</td>\n",
       "      <td>4412d9e0-ab8c-11ec-bcd8-afb5f342d01b</td>\n",
       "      <td>Daume</td>\n",
       "      <td>HaustechnikRCP</td>\n",
       "    </tr>\n",
       "    <tr>\n",
       "      <th>2</th>\n",
       "      <td>GKC-A848FA86D8E4-003</td>\n",
       "      <td>0c7067f0-270f-11ee-bc9b-1d7b9ef08863</td>\n",
       "      <td>Modbus V6 Fan</td>\n",
       "      <td>AB-08 Venti 3</td>\n",
       "      <td>4412d9e0-ab8c-11ec-bcd8-afb5f342d01b</td>\n",
       "      <td>Daume</td>\n",
       "      <td>HaustechnikRCP</td>\n",
       "    </tr>\n",
       "    <tr>\n",
       "      <th>4</th>\n",
       "      <td>GKC-A848FA86D8E4-004</td>\n",
       "      <td>16a5ee70-270f-11ee-927a-b9de331472ce</td>\n",
       "      <td>Modbus V6 Fan</td>\n",
       "      <td>AB-08 Venti 2</td>\n",
       "      <td>4412d9e0-ab8c-11ec-bcd8-afb5f342d01b</td>\n",
       "      <td>Daume</td>\n",
       "      <td>HaustechnikRCP</td>\n",
       "    </tr>\n",
       "    <tr>\n",
       "      <th>9</th>\n",
       "      <td>GKC-A848FA86D8E4-005</td>\n",
       "      <td>28d3dcb0-270f-11ee-bc9b-1d7b9ef08863</td>\n",
       "      <td>Modbus V6 Fan</td>\n",
       "      <td>AB-08 Venti 1</td>\n",
       "      <td>4412d9e0-ab8c-11ec-bcd8-afb5f342d01b</td>\n",
       "      <td>Daume</td>\n",
       "      <td>HaustechnikRCP</td>\n",
       "    </tr>\n",
       "    <tr>\n",
       "      <th>33</th>\n",
       "      <td>GKC-A848FA86D8E4-016</td>\n",
       "      <td>54711570-2c7f-11ee-863a-01bce6d27c63</td>\n",
       "      <td>Thermokon</td>\n",
       "      <td>NaN</td>\n",
       "      <td>4412d9e0-ab8c-11ec-bcd8-afb5f342d01b</td>\n",
       "      <td>Daume</td>\n",
       "      <td>HaustechnikRCP</td>\n",
       "    </tr>\n",
       "  </tbody>\n",
       "</table>\n",
       "</div>"
      ],
      "text/plain": [
       "                    name                                    id           type  \\\n",
       "0   GKC-A848FA86D8E4-002  0571c980-270f-11ee-bc9b-1d7b9ef08863  Modbus V6 Fan   \n",
       "2   GKC-A848FA86D8E4-003  0c7067f0-270f-11ee-bc9b-1d7b9ef08863  Modbus V6 Fan   \n",
       "4   GKC-A848FA86D8E4-004  16a5ee70-270f-11ee-927a-b9de331472ce  Modbus V6 Fan   \n",
       "9   GKC-A848FA86D8E4-005  28d3dcb0-270f-11ee-bc9b-1d7b9ef08863  Modbus V6 Fan   \n",
       "33  GKC-A848FA86D8E4-016  54711570-2c7f-11ee-863a-01bce6d27c63      Thermokon   \n",
       "\n",
       "            label                            customerId CustomerName  \\\n",
       "0   AB-08 Venti 4  4412d9e0-ab8c-11ec-bcd8-afb5f342d01b        Daume   \n",
       "2   AB-08 Venti 3  4412d9e0-ab8c-11ec-bcd8-afb5f342d01b        Daume   \n",
       "4   AB-08 Venti 2  4412d9e0-ab8c-11ec-bcd8-afb5f342d01b        Daume   \n",
       "9   AB-08 Venti 1  4412d9e0-ab8c-11ec-bcd8-afb5f342d01b        Daume   \n",
       "33            NaN  4412d9e0-ab8c-11ec-bcd8-afb5f342d01b        Daume   \n",
       "\n",
       "   CustomerNameNew  \n",
       "0   HaustechnikRCP  \n",
       "2   HaustechnikRCP  \n",
       "4   HaustechnikRCP  \n",
       "9   HaustechnikRCP  \n",
       "33  HaustechnikRCP  "
      ]
     },
     "execution_count": 30,
     "metadata": {},
     "output_type": "execute_result"
    }
   ],
   "source": [
    "full_new.head()"
   ]
  },
  {
   "cell_type": "code",
   "execution_count": 31,
   "metadata": {},
   "outputs": [
    {
     "data": {
      "text/plain": [
       "np.int64(0)"
      ]
     },
     "execution_count": 31,
     "metadata": {},
     "output_type": "execute_result"
    }
   ],
   "source": [
    "full_new[\"CustomerName\"].isna().sum()"
   ]
  },
  {
   "cell_type": "code",
   "execution_count": 32,
   "metadata": {},
   "outputs": [
    {
     "name": "stdout",
     "output_type": "stream",
     "text": [
      "There are 0 devices that exist NOT in the old system but  in the new system.\n"
     ]
    }
   ],
   "source": [
    "print(f\"There are {full_new['CustomerNameNew'].isna().sum()} devices that exist NOT in the old system but  in the new system.\")\n"
   ]
  },
  {
   "cell_type": "code",
   "execution_count": 33,
   "metadata": {},
   "outputs": [
    {
     "data": {
      "text/html": [
       "<div>\n",
       "<style scoped>\n",
       "    .dataframe tbody tr th:only-of-type {\n",
       "        vertical-align: middle;\n",
       "    }\n",
       "\n",
       "    .dataframe tbody tr th {\n",
       "        vertical-align: top;\n",
       "    }\n",
       "\n",
       "    .dataframe thead th {\n",
       "        text-align: right;\n",
       "    }\n",
       "</style>\n",
       "<table border=\"1\" class=\"dataframe\">\n",
       "  <thead>\n",
       "    <tr style=\"text-align: right;\">\n",
       "      <th></th>\n",
       "      <th>name</th>\n",
       "      <th>id</th>\n",
       "      <th>type</th>\n",
       "      <th>label</th>\n",
       "      <th>customerId</th>\n",
       "      <th>CustomerName</th>\n",
       "      <th>CustomerNameNew</th>\n",
       "    </tr>\n",
       "  </thead>\n",
       "  <tbody>\n",
       "  </tbody>\n",
       "</table>\n",
       "</div>"
      ],
      "text/plain": [
       "Empty DataFrame\n",
       "Columns: [name, id, type, label, customerId, CustomerName, CustomerNameNew]\n",
       "Index: []"
      ]
     },
     "execution_count": 33,
     "metadata": {},
     "output_type": "execute_result"
    }
   ],
   "source": [
    "full_new[full_new[\"CustomerNameNew\"].isna()]"
   ]
  },
  {
   "cell_type": "markdown",
   "metadata": {},
   "source": [
    "# Save the data"
   ]
  },
  {
   "cell_type": "code",
   "execution_count": 34,
   "metadata": {},
   "outputs": [],
   "source": [
    "df_final=both_have['id']"
   ]
  },
  {
   "cell_type": "code",
   "execution_count": 35,
   "metadata": {},
   "outputs": [
    {
     "ename": "OSError",
     "evalue": "Cannot save file into a non-existent directory: 'Datasets'",
     "output_type": "error",
     "traceback": [
      "\u001b[0;31m---------------------------------------------------------------------------\u001b[0m",
      "\u001b[0;31mOSError\u001b[0m                                   Traceback (most recent call last)",
      "Cell \u001b[0;32mIn[35], line 1\u001b[0m\n\u001b[0;32m----> 1\u001b[0m \u001b[43mdf_final\u001b[49m\u001b[38;5;241;43m.\u001b[39;49m\u001b[43mto_csv\u001b[49m\u001b[43m(\u001b[49m\u001b[38;5;124;43m'\u001b[39;49m\u001b[38;5;124;43mDatasets/temp.csv\u001b[39;49m\u001b[38;5;124;43m'\u001b[39;49m\u001b[43m,\u001b[49m\u001b[43m  \u001b[49m\u001b[43mheader\u001b[49m\u001b[43m \u001b[49m\u001b[38;5;241;43m=\u001b[39;49m\u001b[38;5;28;43;01mFalse\u001b[39;49;00m\u001b[43m,\u001b[49m\u001b[43m \u001b[49m\u001b[43mindex\u001b[49m\u001b[38;5;241;43m=\u001b[39;49m\u001b[38;5;28;43;01mFalse\u001b[39;49;00m\u001b[43m)\u001b[49m\n",
      "File \u001b[0;32m/usr/local/lib/python3.10/dist-packages/pandas/util/_decorators.py:333\u001b[0m, in \u001b[0;36mdeprecate_nonkeyword_arguments.<locals>.decorate.<locals>.wrapper\u001b[0;34m(*args, **kwargs)\u001b[0m\n\u001b[1;32m    327\u001b[0m \u001b[38;5;28;01mif\u001b[39;00m \u001b[38;5;28mlen\u001b[39m(args) \u001b[38;5;241m>\u001b[39m num_allow_args:\n\u001b[1;32m    328\u001b[0m     warnings\u001b[38;5;241m.\u001b[39mwarn(\n\u001b[1;32m    329\u001b[0m         msg\u001b[38;5;241m.\u001b[39mformat(arguments\u001b[38;5;241m=\u001b[39m_format_argument_list(allow_args)),\n\u001b[1;32m    330\u001b[0m         \u001b[38;5;167;01mFutureWarning\u001b[39;00m,\n\u001b[1;32m    331\u001b[0m         stacklevel\u001b[38;5;241m=\u001b[39mfind_stack_level(),\n\u001b[1;32m    332\u001b[0m     )\n\u001b[0;32m--> 333\u001b[0m \u001b[38;5;28;01mreturn\u001b[39;00m \u001b[43mfunc\u001b[49m\u001b[43m(\u001b[49m\u001b[38;5;241;43m*\u001b[39;49m\u001b[43margs\u001b[49m\u001b[43m,\u001b[49m\u001b[43m \u001b[49m\u001b[38;5;241;43m*\u001b[39;49m\u001b[38;5;241;43m*\u001b[39;49m\u001b[43mkwargs\u001b[49m\u001b[43m)\u001b[49m\n",
      "File \u001b[0;32m/usr/local/lib/python3.10/dist-packages/pandas/core/generic.py:3967\u001b[0m, in \u001b[0;36mNDFrame.to_csv\u001b[0;34m(self, path_or_buf, sep, na_rep, float_format, columns, header, index, index_label, mode, encoding, compression, quoting, quotechar, lineterminator, chunksize, date_format, doublequote, escapechar, decimal, errors, storage_options)\u001b[0m\n\u001b[1;32m   3956\u001b[0m df \u001b[38;5;241m=\u001b[39m \u001b[38;5;28mself\u001b[39m \u001b[38;5;28;01mif\u001b[39;00m \u001b[38;5;28misinstance\u001b[39m(\u001b[38;5;28mself\u001b[39m, ABCDataFrame) \u001b[38;5;28;01melse\u001b[39;00m \u001b[38;5;28mself\u001b[39m\u001b[38;5;241m.\u001b[39mto_frame()\n\u001b[1;32m   3958\u001b[0m formatter \u001b[38;5;241m=\u001b[39m DataFrameFormatter(\n\u001b[1;32m   3959\u001b[0m     frame\u001b[38;5;241m=\u001b[39mdf,\n\u001b[1;32m   3960\u001b[0m     header\u001b[38;5;241m=\u001b[39mheader,\n\u001b[0;32m   (...)\u001b[0m\n\u001b[1;32m   3964\u001b[0m     decimal\u001b[38;5;241m=\u001b[39mdecimal,\n\u001b[1;32m   3965\u001b[0m )\n\u001b[0;32m-> 3967\u001b[0m \u001b[38;5;28;01mreturn\u001b[39;00m \u001b[43mDataFrameRenderer\u001b[49m\u001b[43m(\u001b[49m\u001b[43mformatter\u001b[49m\u001b[43m)\u001b[49m\u001b[38;5;241;43m.\u001b[39;49m\u001b[43mto_csv\u001b[49m\u001b[43m(\u001b[49m\n\u001b[1;32m   3968\u001b[0m \u001b[43m    \u001b[49m\u001b[43mpath_or_buf\u001b[49m\u001b[43m,\u001b[49m\n\u001b[1;32m   3969\u001b[0m \u001b[43m    \u001b[49m\u001b[43mlineterminator\u001b[49m\u001b[38;5;241;43m=\u001b[39;49m\u001b[43mlineterminator\u001b[49m\u001b[43m,\u001b[49m\n\u001b[1;32m   3970\u001b[0m \u001b[43m    \u001b[49m\u001b[43msep\u001b[49m\u001b[38;5;241;43m=\u001b[39;49m\u001b[43msep\u001b[49m\u001b[43m,\u001b[49m\n\u001b[1;32m   3971\u001b[0m \u001b[43m    \u001b[49m\u001b[43mencoding\u001b[49m\u001b[38;5;241;43m=\u001b[39;49m\u001b[43mencoding\u001b[49m\u001b[43m,\u001b[49m\n\u001b[1;32m   3972\u001b[0m \u001b[43m    \u001b[49m\u001b[43merrors\u001b[49m\u001b[38;5;241;43m=\u001b[39;49m\u001b[43merrors\u001b[49m\u001b[43m,\u001b[49m\n\u001b[1;32m   3973\u001b[0m \u001b[43m    \u001b[49m\u001b[43mcompression\u001b[49m\u001b[38;5;241;43m=\u001b[39;49m\u001b[43mcompression\u001b[49m\u001b[43m,\u001b[49m\n\u001b[1;32m   3974\u001b[0m \u001b[43m    \u001b[49m\u001b[43mquoting\u001b[49m\u001b[38;5;241;43m=\u001b[39;49m\u001b[43mquoting\u001b[49m\u001b[43m,\u001b[49m\n\u001b[1;32m   3975\u001b[0m \u001b[43m    \u001b[49m\u001b[43mcolumns\u001b[49m\u001b[38;5;241;43m=\u001b[39;49m\u001b[43mcolumns\u001b[49m\u001b[43m,\u001b[49m\n\u001b[1;32m   3976\u001b[0m \u001b[43m    \u001b[49m\u001b[43mindex_label\u001b[49m\u001b[38;5;241;43m=\u001b[39;49m\u001b[43mindex_label\u001b[49m\u001b[43m,\u001b[49m\n\u001b[1;32m   3977\u001b[0m \u001b[43m    \u001b[49m\u001b[43mmode\u001b[49m\u001b[38;5;241;43m=\u001b[39;49m\u001b[43mmode\u001b[49m\u001b[43m,\u001b[49m\n\u001b[1;32m   3978\u001b[0m \u001b[43m    \u001b[49m\u001b[43mchunksize\u001b[49m\u001b[38;5;241;43m=\u001b[39;49m\u001b[43mchunksize\u001b[49m\u001b[43m,\u001b[49m\n\u001b[1;32m   3979\u001b[0m \u001b[43m    \u001b[49m\u001b[43mquotechar\u001b[49m\u001b[38;5;241;43m=\u001b[39;49m\u001b[43mquotechar\u001b[49m\u001b[43m,\u001b[49m\n\u001b[1;32m   3980\u001b[0m \u001b[43m    \u001b[49m\u001b[43mdate_format\u001b[49m\u001b[38;5;241;43m=\u001b[39;49m\u001b[43mdate_format\u001b[49m\u001b[43m,\u001b[49m\n\u001b[1;32m   3981\u001b[0m \u001b[43m    \u001b[49m\u001b[43mdoublequote\u001b[49m\u001b[38;5;241;43m=\u001b[39;49m\u001b[43mdoublequote\u001b[49m\u001b[43m,\u001b[49m\n\u001b[1;32m   3982\u001b[0m \u001b[43m    \u001b[49m\u001b[43mescapechar\u001b[49m\u001b[38;5;241;43m=\u001b[39;49m\u001b[43mescapechar\u001b[49m\u001b[43m,\u001b[49m\n\u001b[1;32m   3983\u001b[0m \u001b[43m    \u001b[49m\u001b[43mstorage_options\u001b[49m\u001b[38;5;241;43m=\u001b[39;49m\u001b[43mstorage_options\u001b[49m\u001b[43m,\u001b[49m\n\u001b[1;32m   3984\u001b[0m \u001b[43m\u001b[49m\u001b[43m)\u001b[49m\n",
      "File \u001b[0;32m/usr/local/lib/python3.10/dist-packages/pandas/io/formats/format.py:1014\u001b[0m, in \u001b[0;36mDataFrameRenderer.to_csv\u001b[0;34m(self, path_or_buf, encoding, sep, columns, index_label, mode, compression, quoting, quotechar, lineterminator, chunksize, date_format, doublequote, escapechar, errors, storage_options)\u001b[0m\n\u001b[1;32m    993\u001b[0m     created_buffer \u001b[38;5;241m=\u001b[39m \u001b[38;5;28;01mFalse\u001b[39;00m\n\u001b[1;32m    995\u001b[0m csv_formatter \u001b[38;5;241m=\u001b[39m CSVFormatter(\n\u001b[1;32m    996\u001b[0m     path_or_buf\u001b[38;5;241m=\u001b[39mpath_or_buf,\n\u001b[1;32m    997\u001b[0m     lineterminator\u001b[38;5;241m=\u001b[39mlineterminator,\n\u001b[0;32m   (...)\u001b[0m\n\u001b[1;32m   1012\u001b[0m     formatter\u001b[38;5;241m=\u001b[39m\u001b[38;5;28mself\u001b[39m\u001b[38;5;241m.\u001b[39mfmt,\n\u001b[1;32m   1013\u001b[0m )\n\u001b[0;32m-> 1014\u001b[0m \u001b[43mcsv_formatter\u001b[49m\u001b[38;5;241;43m.\u001b[39;49m\u001b[43msave\u001b[49m\u001b[43m(\u001b[49m\u001b[43m)\u001b[49m\n\u001b[1;32m   1016\u001b[0m \u001b[38;5;28;01mif\u001b[39;00m created_buffer:\n\u001b[1;32m   1017\u001b[0m     \u001b[38;5;28;01massert\u001b[39;00m \u001b[38;5;28misinstance\u001b[39m(path_or_buf, StringIO)\n",
      "File \u001b[0;32m/usr/local/lib/python3.10/dist-packages/pandas/io/formats/csvs.py:251\u001b[0m, in \u001b[0;36mCSVFormatter.save\u001b[0;34m(self)\u001b[0m\n\u001b[1;32m    247\u001b[0m \u001b[38;5;250m\u001b[39m\u001b[38;5;124;03m\"\"\"\u001b[39;00m\n\u001b[1;32m    248\u001b[0m \u001b[38;5;124;03mCreate the writer & save.\u001b[39;00m\n\u001b[1;32m    249\u001b[0m \u001b[38;5;124;03m\"\"\"\u001b[39;00m\n\u001b[1;32m    250\u001b[0m \u001b[38;5;66;03m# apply compression and byte/text conversion\u001b[39;00m\n\u001b[0;32m--> 251\u001b[0m \u001b[38;5;28;01mwith\u001b[39;00m \u001b[43mget_handle\u001b[49m\u001b[43m(\u001b[49m\n\u001b[1;32m    252\u001b[0m \u001b[43m    \u001b[49m\u001b[38;5;28;43mself\u001b[39;49m\u001b[38;5;241;43m.\u001b[39;49m\u001b[43mfilepath_or_buffer\u001b[49m\u001b[43m,\u001b[49m\n\u001b[1;32m    253\u001b[0m \u001b[43m    \u001b[49m\u001b[38;5;28;43mself\u001b[39;49m\u001b[38;5;241;43m.\u001b[39;49m\u001b[43mmode\u001b[49m\u001b[43m,\u001b[49m\n\u001b[1;32m    254\u001b[0m \u001b[43m    \u001b[49m\u001b[43mencoding\u001b[49m\u001b[38;5;241;43m=\u001b[39;49m\u001b[38;5;28;43mself\u001b[39;49m\u001b[38;5;241;43m.\u001b[39;49m\u001b[43mencoding\u001b[49m\u001b[43m,\u001b[49m\n\u001b[1;32m    255\u001b[0m \u001b[43m    \u001b[49m\u001b[43merrors\u001b[49m\u001b[38;5;241;43m=\u001b[39;49m\u001b[38;5;28;43mself\u001b[39;49m\u001b[38;5;241;43m.\u001b[39;49m\u001b[43merrors\u001b[49m\u001b[43m,\u001b[49m\n\u001b[1;32m    256\u001b[0m \u001b[43m    \u001b[49m\u001b[43mcompression\u001b[49m\u001b[38;5;241;43m=\u001b[39;49m\u001b[38;5;28;43mself\u001b[39;49m\u001b[38;5;241;43m.\u001b[39;49m\u001b[43mcompression\u001b[49m\u001b[43m,\u001b[49m\n\u001b[1;32m    257\u001b[0m \u001b[43m    \u001b[49m\u001b[43mstorage_options\u001b[49m\u001b[38;5;241;43m=\u001b[39;49m\u001b[38;5;28;43mself\u001b[39;49m\u001b[38;5;241;43m.\u001b[39;49m\u001b[43mstorage_options\u001b[49m\u001b[43m,\u001b[49m\n\u001b[1;32m    258\u001b[0m \u001b[43m\u001b[49m\u001b[43m)\u001b[49m \u001b[38;5;28;01mas\u001b[39;00m handles:\n\u001b[1;32m    259\u001b[0m     \u001b[38;5;66;03m# Note: self.encoding is irrelevant here\u001b[39;00m\n\u001b[1;32m    260\u001b[0m     \u001b[38;5;28mself\u001b[39m\u001b[38;5;241m.\u001b[39mwriter \u001b[38;5;241m=\u001b[39m csvlib\u001b[38;5;241m.\u001b[39mwriter(\n\u001b[1;32m    261\u001b[0m         handles\u001b[38;5;241m.\u001b[39mhandle,\n\u001b[1;32m    262\u001b[0m         lineterminator\u001b[38;5;241m=\u001b[39m\u001b[38;5;28mself\u001b[39m\u001b[38;5;241m.\u001b[39mlineterminator,\n\u001b[0;32m   (...)\u001b[0m\n\u001b[1;32m    267\u001b[0m         quotechar\u001b[38;5;241m=\u001b[39m\u001b[38;5;28mself\u001b[39m\u001b[38;5;241m.\u001b[39mquotechar,\n\u001b[1;32m    268\u001b[0m     )\n\u001b[1;32m    270\u001b[0m     \u001b[38;5;28mself\u001b[39m\u001b[38;5;241m.\u001b[39m_save()\n",
      "File \u001b[0;32m/usr/local/lib/python3.10/dist-packages/pandas/io/common.py:749\u001b[0m, in \u001b[0;36mget_handle\u001b[0;34m(path_or_buf, mode, encoding, compression, memory_map, is_text, errors, storage_options)\u001b[0m\n\u001b[1;32m    747\u001b[0m \u001b[38;5;66;03m# Only for write methods\u001b[39;00m\n\u001b[1;32m    748\u001b[0m \u001b[38;5;28;01mif\u001b[39;00m \u001b[38;5;124m\"\u001b[39m\u001b[38;5;124mr\u001b[39m\u001b[38;5;124m\"\u001b[39m \u001b[38;5;129;01mnot\u001b[39;00m \u001b[38;5;129;01min\u001b[39;00m mode \u001b[38;5;129;01mand\u001b[39;00m is_path:\n\u001b[0;32m--> 749\u001b[0m     \u001b[43mcheck_parent_directory\u001b[49m\u001b[43m(\u001b[49m\u001b[38;5;28;43mstr\u001b[39;49m\u001b[43m(\u001b[49m\u001b[43mhandle\u001b[49m\u001b[43m)\u001b[49m\u001b[43m)\u001b[49m\n\u001b[1;32m    751\u001b[0m \u001b[38;5;28;01mif\u001b[39;00m compression:\n\u001b[1;32m    752\u001b[0m     \u001b[38;5;28;01mif\u001b[39;00m compression \u001b[38;5;241m!=\u001b[39m \u001b[38;5;124m\"\u001b[39m\u001b[38;5;124mzstd\u001b[39m\u001b[38;5;124m\"\u001b[39m:\n\u001b[1;32m    753\u001b[0m         \u001b[38;5;66;03m# compression libraries do not like an explicit text-mode\u001b[39;00m\n",
      "File \u001b[0;32m/usr/local/lib/python3.10/dist-packages/pandas/io/common.py:616\u001b[0m, in \u001b[0;36mcheck_parent_directory\u001b[0;34m(path)\u001b[0m\n\u001b[1;32m    614\u001b[0m parent \u001b[38;5;241m=\u001b[39m Path(path)\u001b[38;5;241m.\u001b[39mparent\n\u001b[1;32m    615\u001b[0m \u001b[38;5;28;01mif\u001b[39;00m \u001b[38;5;129;01mnot\u001b[39;00m parent\u001b[38;5;241m.\u001b[39mis_dir():\n\u001b[0;32m--> 616\u001b[0m     \u001b[38;5;28;01mraise\u001b[39;00m \u001b[38;5;167;01mOSError\u001b[39;00m(\u001b[38;5;124mrf\u001b[39m\u001b[38;5;124m\"\u001b[39m\u001b[38;5;124mCannot save file into a non-existent directory: \u001b[39m\u001b[38;5;124m'\u001b[39m\u001b[38;5;132;01m{\u001b[39;00mparent\u001b[38;5;132;01m}\u001b[39;00m\u001b[38;5;124m'\u001b[39m\u001b[38;5;124m\"\u001b[39m)\n",
      "\u001b[0;31mOSError\u001b[0m: Cannot save file into a non-existent directory: 'Datasets'"
     ]
    }
   ],
   "source": [
    "df_final.to_csv('Datasets/temp.csv',  header =False, index=False)\n"
   ]
  },
  {
   "cell_type": "code",
   "execution_count": null,
   "metadata": {},
   "outputs": [],
   "source": []
  }
 ],
 "metadata": {
  "kernelspec": {
   "display_name": "Python 3",
   "language": "python",
   "name": "python3"
  },
  "language_info": {
   "codemirror_mode": {
    "name": "ipython",
    "version": 3
   },
   "file_extension": ".py",
   "mimetype": "text/x-python",
   "name": "python",
   "nbconvert_exporter": "python",
   "pygments_lexer": "ipython3",
   "version": "3.10.12"
  }
 },
 "nbformat": 4,
 "nbformat_minor": 2
}
