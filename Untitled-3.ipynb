{
 "cells": [
  {
   "cell_type": "code",
   "execution_count": 1,
   "metadata": {},
   "outputs": [],
   "source": [
    "import pandas as pd "
   ]
  },
  {
   "cell_type": "code",
   "execution_count": 67,
   "metadata": {},
   "outputs": [],
   "source": [
    "df=pd.read_csv(\"/root/main-kafka-main/DataFrame/4412d9e0-ab8c-11ec-bcd8-afb5f342d01b-20250224_153942.csv\")"
   ]
  },
  {
   "cell_type": "code",
   "execution_count": 68,
   "metadata": {},
   "outputs": [
    {
     "data": {
      "text/html": [
       "<div>\n",
       "<style scoped>\n",
       "    .dataframe tbody tr th:only-of-type {\n",
       "        vertical-align: middle;\n",
       "    }\n",
       "\n",
       "    .dataframe tbody tr th {\n",
       "        vertical-align: top;\n",
       "    }\n",
       "\n",
       "    .dataframe thead th {\n",
       "        text-align: right;\n",
       "    }\n",
       "</style>\n",
       "<table border=\"1\" class=\"dataframe\">\n",
       "  <thead>\n",
       "    <tr style=\"text-align: right;\">\n",
       "      <th></th>\n",
       "      <th>name</th>\n",
       "      <th>id</th>\n",
       "      <th>type</th>\n",
       "      <th>label</th>\n",
       "      <th>customerId</th>\n",
       "    </tr>\n",
       "  </thead>\n",
       "  <tbody>\n",
       "    <tr>\n",
       "      <th>0</th>\n",
       "      <td>GKC-A848FA86D8E4-002</td>\n",
       "      <td>0571c980-270f-11ee-bc9b-1d7b9ef08863</td>\n",
       "      <td>Modbus V6 Fan</td>\n",
       "      <td>AB-08 Venti 4</td>\n",
       "      <td>4412d9e0-ab8c-11ec-bcd8-afb5f342d01b</td>\n",
       "    </tr>\n",
       "    <tr>\n",
       "      <th>1</th>\n",
       "      <td>GKC-A848FA87769C-021</td>\n",
       "      <td>074033d0-92c7-11ef-bb66-09a77fdcecde</td>\n",
       "      <td>Thermokon</td>\n",
       "      <td>NaN</td>\n",
       "      <td>4412d9e0-ab8c-11ec-bcd8-afb5f342d01b</td>\n",
       "    </tr>\n",
       "    <tr>\n",
       "      <th>2</th>\n",
       "      <td>GKC-A848FA86D8E4-003</td>\n",
       "      <td>0c7067f0-270f-11ee-bc9b-1d7b9ef08863</td>\n",
       "      <td>Modbus V6 Fan</td>\n",
       "      <td>AB-08 Venti 3</td>\n",
       "      <td>4412d9e0-ab8c-11ec-bcd8-afb5f342d01b</td>\n",
       "    </tr>\n",
       "    <tr>\n",
       "      <th>3</th>\n",
       "      <td>GKC-A848FA870B50-013</td>\n",
       "      <td>0d876b50-2711-11ee-927a-b9de331472ce</td>\n",
       "      <td>Modbus V6 Fan</td>\n",
       "      <td>ZU-10 Venti 1</td>\n",
       "      <td>4412d9e0-ab8c-11ec-bcd8-afb5f342d01b</td>\n",
       "    </tr>\n",
       "    <tr>\n",
       "      <th>4</th>\n",
       "      <td>GKC-A848FA86D8E4-004</td>\n",
       "      <td>16a5ee70-270f-11ee-927a-b9de331472ce</td>\n",
       "      <td>Modbus V6 Fan</td>\n",
       "      <td>AB-08 Venti 2</td>\n",
       "      <td>4412d9e0-ab8c-11ec-bcd8-afb5f342d01b</td>\n",
       "    </tr>\n",
       "  </tbody>\n",
       "</table>\n",
       "</div>"
      ],
      "text/plain": [
       "                   name                                    id           type  \\\n",
       "0  GKC-A848FA86D8E4-002  0571c980-270f-11ee-bc9b-1d7b9ef08863  Modbus V6 Fan   \n",
       "1  GKC-A848FA87769C-021  074033d0-92c7-11ef-bb66-09a77fdcecde      Thermokon   \n",
       "2  GKC-A848FA86D8E4-003  0c7067f0-270f-11ee-bc9b-1d7b9ef08863  Modbus V6 Fan   \n",
       "3  GKC-A848FA870B50-013  0d876b50-2711-11ee-927a-b9de331472ce  Modbus V6 Fan   \n",
       "4  GKC-A848FA86D8E4-004  16a5ee70-270f-11ee-927a-b9de331472ce  Modbus V6 Fan   \n",
       "\n",
       "           label                            customerId  \n",
       "0  AB-08 Venti 4  4412d9e0-ab8c-11ec-bcd8-afb5f342d01b  \n",
       "1            NaN  4412d9e0-ab8c-11ec-bcd8-afb5f342d01b  \n",
       "2  AB-08 Venti 3  4412d9e0-ab8c-11ec-bcd8-afb5f342d01b  \n",
       "3  ZU-10 Venti 1  4412d9e0-ab8c-11ec-bcd8-afb5f342d01b  \n",
       "4  AB-08 Venti 2  4412d9e0-ab8c-11ec-bcd8-afb5f342d01b  "
      ]
     },
     "execution_count": 68,
     "metadata": {},
     "output_type": "execute_result"
    }
   ],
   "source": [
    "df.head()"
   ]
  },
  {
   "cell_type": "code",
   "execution_count": 69,
   "metadata": {},
   "outputs": [
    {
     "data": {
      "text/plain": [
       "(65, 5)"
      ]
     },
     "execution_count": 69,
     "metadata": {},
     "output_type": "execute_result"
    }
   ],
   "source": [
    "df.shape"
   ]
  },
  {
   "cell_type": "code",
   "execution_count": 71,
   "metadata": {},
   "outputs": [
    {
     "data": {
      "text/plain": [
       "customerId\n",
       "4412d9e0-ab8c-11ec-bcd8-afb5f342d01b    65\n",
       "Name: count, dtype: int64"
      ]
     },
     "execution_count": 71,
     "metadata": {},
     "output_type": "execute_result"
    }
   ],
   "source": [
    "df[\"customerId\"].value_counts()"
   ]
  },
  {
   "cell_type": "code",
   "execution_count": 61,
   "metadata": {},
   "outputs": [],
   "source": [
    "df.drop(columns={\"name\", \"type\",  'label', \"customerId\"}, axis=1, inplace=True)"
   ]
  },
  {
   "cell_type": "code",
   "execution_count": 62,
   "metadata": {},
   "outputs": [],
   "source": [
    "df.to_csv('Datasets/temp.csv',  header =False, index=False)\n"
   ]
  },
  {
   "cell_type": "code",
   "execution_count": 20,
   "metadata": {},
   "outputs": [],
   "source": [
    "import json"
   ]
  },
  {
   "cell_type": "code",
   "execution_count": 50,
   "metadata": {},
   "outputs": [],
   "source": [
    "import polars as pl\n",
    "df=pl.read_csv(\"/root/main-kafka-main/Datasets/temp.csv\", has_header=False)"
   ]
  },
  {
   "cell_type": "code",
   "execution_count": 56,
   "metadata": {},
   "outputs": [
    {
     "name": "stdout",
     "output_type": "stream",
     "text": [
      "shape: (5,)\n",
      "Series: 'column_1' [str]\n",
      "[\n",
      "\t\"0c4b80a0-9b26-11ec-bcd8-afb5f3…\n",
      "\t\"0c5062a0-9b26-11ec-bcd8-afb5f3…\n",
      "\t\"0c5544a0-9b26-11ec-bcd8-afb5f3…\n",
      "\t\"6f0cc8d0-ab8d-11ec-bcd8-afb5f3…\n",
      "\t\"806bb700-c175-11ec-bcd8-afb5f3…\n",
      "]\n"
     ]
    }
   ],
   "source": [
    "for i in df:\n",
    "    print(i)"
   ]
  },
  {
   "cell_type": "code",
   "execution_count": 58,
   "metadata": {},
   "outputs": [
    {
     "name": "stdout",
     "output_type": "stream",
     "text": [
      "0c4b80a0-9b26-11ec-bcd8-afb5f342d01b\n",
      "0c5062a0-9b26-11ec-bcd8-afb5f342d01b\n",
      "0c5544a0-9b26-11ec-bcd8-afb5f342d01b\n",
      "6f0cc8d0-ab8d-11ec-bcd8-afb5f342d01b\n",
      "806bb700-c175-11ec-bcd8-afb5f342d01b\n"
     ]
    }
   ],
   "source": [
    "import csv\n",
    "\n",
    "with open('/root/main-kafka-main/Datasets/temp.csv', 'r') as file:\n",
    "    reader = csv.reader(file)\n",
    "    for row in reader:\n",
    "        print(row[0])"
   ]
  },
  {
   "cell_type": "code",
   "execution_count": 54,
   "metadata": {},
   "outputs": [
    {
     "name": "stdout",
     "output_type": "stream",
     "text": [
      "[['0c4b80a0-9b26-11ec-bcd8-afb5f342d01b'], ['0c5062a0-9b26-11ec-bcd8-afb5f342d01b'], ['0c5544a0-9b26-11ec-bcd8-afb5f342d01b'], ['6f0cc8d0-ab8d-11ec-bcd8-afb5f342d01b'], ['806bb700-c175-11ec-bcd8-afb5f342d01b']]\n"
     ]
    }
   ],
   "source": [
    "import csv\n",
    "\n",
    "with open('/root/main-kafka-main/Datasets/temp.csv') as f:\n",
    "    reader = csv.reader(f)\n",
    "    data = list(reader)\n",
    "\n",
    "print(data)"
   ]
  }
 ],
 "metadata": {
  "kernelspec": {
   "display_name": "Python 3",
   "language": "python",
   "name": "python3"
  },
  "language_info": {
   "codemirror_mode": {
    "name": "ipython",
    "version": 3
   },
   "file_extension": ".py",
   "mimetype": "text/x-python",
   "name": "python",
   "nbconvert_exporter": "python",
   "pygments_lexer": "ipython3",
   "version": "3.10.12"
  }
 },
 "nbformat": 4,
 "nbformat_minor": 2
}
